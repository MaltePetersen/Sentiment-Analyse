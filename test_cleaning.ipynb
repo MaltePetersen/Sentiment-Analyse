{
 "cells": [
  {
   "cell_type": "code",
   "execution_count": 1,
   "metadata": {},
   "outputs": [],
   "source": [
    "from utils.text_utils import clean_text\n",
    "import pandas as pd\n",
    "import contractions"
   ]
  },
  {
   "cell_type": "code",
   "execution_count": 2,
   "metadata": {},
   "outputs": [],
   "source": [
    "df = pd.read_csv('IMDB Dataset.csv')"
   ]
  },
  {
   "cell_type": "code",
   "execution_count": 3,
   "metadata": {},
   "outputs": [
    {
     "data": {
      "text/html": [
       "<div>\n",
       "<style scoped>\n",
       "    .dataframe tbody tr th:only-of-type {\n",
       "        vertical-align: middle;\n",
       "    }\n",
       "\n",
       "    .dataframe tbody tr th {\n",
       "        vertical-align: top;\n",
       "    }\n",
       "\n",
       "    .dataframe thead th {\n",
       "        text-align: right;\n",
       "    }\n",
       "</style>\n",
       "<table border=\"1\" class=\"dataframe\">\n",
       "  <thead>\n",
       "    <tr style=\"text-align: right;\">\n",
       "      <th></th>\n",
       "      <th>review</th>\n",
       "      <th>sentiment</th>\n",
       "    </tr>\n",
       "  </thead>\n",
       "  <tbody>\n",
       "    <tr>\n",
       "      <th>0</th>\n",
       "      <td>One of the other reviewers has mentioned that ...</td>\n",
       "      <td>positive</td>\n",
       "    </tr>\n",
       "    <tr>\n",
       "      <th>1</th>\n",
       "      <td>A wonderful little production. &lt;br /&gt;&lt;br /&gt;The...</td>\n",
       "      <td>positive</td>\n",
       "    </tr>\n",
       "    <tr>\n",
       "      <th>2</th>\n",
       "      <td>I thought this was a wonderful way to spend ti...</td>\n",
       "      <td>positive</td>\n",
       "    </tr>\n",
       "    <tr>\n",
       "      <th>3</th>\n",
       "      <td>Basically there's a family where a little boy ...</td>\n",
       "      <td>negative</td>\n",
       "    </tr>\n",
       "    <tr>\n",
       "      <th>4</th>\n",
       "      <td>Petter Mattei's \"Love in the Time of Money\" is...</td>\n",
       "      <td>positive</td>\n",
       "    </tr>\n",
       "  </tbody>\n",
       "</table>\n",
       "</div>"
      ],
      "text/plain": [
       "                                              review sentiment\n",
       "0  One of the other reviewers has mentioned that ...  positive\n",
       "1  A wonderful little production. <br /><br />The...  positive\n",
       "2  I thought this was a wonderful way to spend ti...  positive\n",
       "3  Basically there's a family where a little boy ...  negative\n",
       "4  Petter Mattei's \"Love in the Time of Money\" is...  positive"
      ]
     },
     "execution_count": 3,
     "metadata": {},
     "output_type": "execute_result"
    }
   ],
   "source": [
    "df.head()"
   ]
  },
  {
   "cell_type": "code",
   "execution_count": 4,
   "metadata": {},
   "outputs": [
    {
     "name": "stdout",
     "output_type": "stream",
     "text": [
      "EUROPA (ZENTROPA) is a masterpiece that gives the viewer the excitement that must have come with the birth of the narrative film nearly a century ago. This film is truly unique, and a work of genius. The camerawork and the editing are brilliant, and combined with the narrative tropes of alienation used in the film, creates an eerie and unforgettable cinematic experience.<br /><br />The participation of Barbara Suwkowa and Eddie Constantine in the cast are two guilty pleasures that should be seen and enjoyed. Max Von Sydow provides his great voice as the narrator.<br /><br />A one of a kind movie! Four stars (highest rating).\n"
     ]
    }
   ],
   "source": [
    "random_sample = df.sample(1)['review'].values[0]\n",
    "print(random_sample)"
   ]
  },
  {
   "cell_type": "code",
   "execution_count": 5,
   "metadata": {},
   "outputs": [
    {
     "name": "stdout",
     "output_type": "stream",
     "text": [
      "EUROPA (ZENTROPA) is a masterpiece that gives the viewer the excitement that must have come with the birth of the narrative film nearly a century ago. This film is truly unique, and a work of genius. The camerawork and the editing are brilliant, and combined with the narrative tropes of alienation used in the film, creates an eerie and unforgettable cinematic experience.<br /><br />The participation of Barbara Suwkowa and Eddie Constantine in the cast are two guilty pleasures that should be seen and enjoyed. Max Von Sydow provides his great voice as the narrator.<br /><br />A one of a kind movie! Four stars (highest rating).\n",
      "europa zentropa is a masterpiece that gives the viewer the excitement that must have come with the birth of the narrative film nearly a century ago this film is truly unique and a work of genius the camerawork and the editing are brilliant and combined with the narrative tropes of alienation used in the film creates an eerie and unforgettable cinematic experiencethe participation of barbara suwkowa and eddie constantine in the cast are two guilty pleasures that should be seen and enjoyed max von sydow provides his great voice as the narratora one of a kind movie four stars highest rating\n"
     ]
    }
   ],
   "source": [
    "print(contractions.fix(random_sample))\n",
    "print(clean_text(random_sample))"
   ]
  },
  {
   "cell_type": "code",
   "execution_count": null,
   "metadata": {},
   "outputs": [],
   "source": []
  },
  {
   "cell_type": "code",
   "execution_count": 6,
   "metadata": {},
   "outputs": [
    {
     "name": "stdout",
     "output_type": "stream",
     "text": [
      "it's a really nice day, i'll do it later. Ain't that right? <br/> https://www.google.com/ </br> What's up?<br> I'm not sure. Hallo������\n",
      "it is a really nice day i will do it later are not that right    what is up i am not sure hallo\n"
     ]
    }
   ],
   "source": [
    "# add some contractions\n",
    "test = \"it's a really nice day, i'll do it later. Ain't that right? <br/> https://www.google.com/ </br> What's up?<br> I'm not sure. Hallo������\"\n",
    "print(test)\n",
    "# use contractions\n",
    "print(clean_text(test))"
   ]
  },
  {
   "cell_type": "code",
   "execution_count": 7,
   "metadata": {},
   "outputs": [
    {
     "name": "stdout",
     "output_type": "stream",
     "text": [
      "McDonald�������������nasdf��������������s is proud to own the most broken ice cream machines on the planet. When I asked at the drive through if they had ice cream the lady replied ���������������������������na������������������,1 star\n",
      "mcdonaldnasdfs is proud to own the most broken ice cream machines on the planet when i asked at the drive through if they had ice cream the lady replied na1 star\n"
     ]
    }
   ],
   "source": [
    "test2 = \"McDonald�������������nasdf��������������s is proud to own the most broken ice cream machines on the planet. When I asked at the drive through if they had ice cream the lady replied ���������������������������na������������������,1 star\"\n",
    "print(test2)\n",
    "print(clean_text(test2))"
   ]
  },
  {
   "cell_type": "code",
   "execution_count": 8,
   "metadata": {},
   "outputs": [
    {
     "name": "stdout",
     "output_type": "stream",
     "text": [
      "I'm not sure. Hallo������. I really liked the scene in the beginning, but the movie overall was bad\n",
      "i am not sure hallo i really liked the scene in the beginning but the movie overall was bad\n",
      "--------------------------------------------------\n",
      "I didn't like the scene in the beinning, but the movie overall was good\n",
      "i did not like the scene in the beinning but the movie overall was good\n"
     ]
    }
   ],
   "source": [
    "test3 = \"I'm not sure. Hallo������. I really liked the scene in the beginning, but the movie overall was bad\"\n",
    "test4 = \"I didn't like the scene in the beinning, but the movie overall was good\"\n",
    "\n",
    "print(test3)\n",
    "print(clean_text(test3))\n",
    "print('-'*50)\n",
    "print(test4)\n",
    "print(clean_text(test4))"
   ]
  }
 ],
 "metadata": {
  "kernelspec": {
   "display_name": "tf",
   "language": "python",
   "name": "python3"
  },
  "language_info": {
   "codemirror_mode": {
    "name": "ipython",
    "version": 3
   },
   "file_extension": ".py",
   "mimetype": "text/x-python",
   "name": "python",
   "nbconvert_exporter": "python",
   "pygments_lexer": "ipython3",
   "version": "3.9.16"
  },
  "orig_nbformat": 4
 },
 "nbformat": 4,
 "nbformat_minor": 2
}
