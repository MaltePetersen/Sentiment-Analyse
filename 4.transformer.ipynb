{
  "cells": [
    {
      "cell_type": "markdown",
      "metadata": {
        "id": "JSBfIPhUEpl2"
      },
      "source": [
        "# Sentiment Analyses using a word embedding layer and a transformer"
      ]
    },
    {
      "cell_type": "markdown",
      "metadata": {
        "id": "auY0w_QaEpl4"
      },
      "source": [
        "Zielsetzung:"
      ]
    },
    {
      "cell_type": "markdown",
      "metadata": {
        "id": "gfObZCUVEpl5"
      },
      "source": [
        "Alle Imports:"
      ]
    },
    {
      "cell_type": "code",
      "execution_count": null,
      "metadata": {
        "id": "0qO7-nR_Epl5"
      },
      "outputs": [],
      "source": [
        "import pandas as pd\n",
        "import numpy as np\n",
        "from sklearn.model_selection import train_test_split\n",
        "import tensorflow as tf\n",
        "from tensorflow.keras.layers import TextVectorization\n",
        "from tensorflow import keras\n",
        "from tensorflow.keras import layers\n"
      ]
    },
    {
      "cell_type": "markdown",
      "metadata": {
        "id": "urukYxJ-Epl7"
      },
      "source": [
        "# Authenticating with Kaggle using kaggle.json\n",
        "\n",
        "Navigate to https://www.kaggle.com. Then go to the [Account tab of your user profile](https://www.kaggle.com/me/account) and select Create API Token. This will trigger the download of kaggle.json, a file containing your API credentials.\n",
        "\n",
        "Then run the cell below to upload kaggle.json to your Colab runtime."
      ]
    },
    {
      "cell_type": "code",
      "execution_count": null,
      "metadata": {
        "colab": {
          "base_uri": "https://localhost:8080/",
          "height": 92
        },
        "id": "ozD0wXHNEpl7",
        "outputId": "b9f2d844-ba73-4678-f634-4040f773c7fd"
      },
      "outputs": [],
      "source": [
        "from google.colab import files\n",
        "\n",
        "uploaded = files.upload()\n",
        "\n",
        "for fn in uploaded.keys():\n",
        "  print('User uploaded file \"{name}\" with length {length} bytes'.format(\n",
        "      name=fn, length=len(uploaded[fn])))\n",
        "\n",
        "# Then move kaggle.json into the folder where the API expects to find it.\n",
        "!mkdir -p ~/.kaggle/ && mv kaggle.json ~/.kaggle/ && chmod 600 ~/.kaggle/kaggle.json"
      ]
    },
    {
      "cell_type": "code",
      "execution_count": null,
      "metadata": {
        "colab": {
          "base_uri": "https://localhost:8080/"
        },
        "id": "PGYJByMzEpl8",
        "outputId": "e7104179-b96f-4e03-9fce-612fef03eb68"
      },
      "outputs": [],
      "source": [
        "!kaggle datasets download -d nelgiriyewithana/mcdonalds-store-reviews\n",
        "!unzip mcdonalds-store-reviews.zip"
      ]
    },
    {
      "cell_type": "code",
      "execution_count": null,
      "metadata": {
        "colab": {
          "base_uri": "https://localhost:8080/"
        },
        "id": "_fVI-hXQEpl8",
        "outputId": "2edc002d-adc0-435e-e6fd-e489714c256b"
      },
      "outputs": [],
      "source": [
        "!kaggle datasets download -d lakshmi25npathi/imdb-dataset-of-50k-movie-reviews\n",
        "!unzip imdb-dataset-of-50k-movie-reviews.zip"
      ]
    },
    {
      "cell_type": "code",
      "execution_count": null,
      "metadata": {
        "id": "vNyP_KqMEpl9"
      },
      "outputs": [],
      "source": [
        "df_mc = pd.read_csv('McDonald_s_Reviews.csv', encoding=\"latin-1\")\n",
        "df_imdb = pd.read_csv('IMDB Dataset.csv')\n",
        "df_mc = df_mc[df_mc['rating'] != '3 stars']\n",
        "data_mc = df_mc['review'].to_numpy()\n",
        "data_imdb = df_imdb['review'].to_numpy()\n",
        "rating_mapping_imdb = {\n",
        "    'positive': 1,\n",
        "    'negative': 0,\n",
        "}\n",
        "\n",
        "label_imdb = df_imdb['sentiment'].map(rating_mapping_imdb).to_numpy()\n",
        "rating_mapping_mc = {\n",
        "    '1 star': 0,\n",
        "    '2 stars': 0,\n",
        "    '4 stars': 1,\n",
        "    '5 stars': 1\n",
        "}\n",
        "\n",
        "label_mc = df_mc['rating'].map(rating_mapping_mc).to_numpy()\n",
        "data = np.append(data_imdb, data_mc)\n",
        "label = np.append(label_imdb,label_mc)\n",
        "\n",
        "train_data, test_data, train_label, test_label = train_test_split(data, label, test_size=0.2, random_state=42)\n",
        "\n",
        "\n"
      ]
    },
    {
      "cell_type": "code",
      "execution_count": null,
      "metadata": {
        "id": "oF4SJF4GEpl9"
      },
      "outputs": [],
      "source": [
        "from tensorflow.keras import layers\n",
        "\n",
        "max_length = 600\n",
        "max_tokens = 20000\n",
        "text_vectorization = layers.TextVectorization(\n",
        "    max_tokens=max_tokens,\n",
        "    output_mode=\"int\",\n",
        "    output_sequence_length=max_length,\n",
        ")\n",
        "text_vectorization.adapt(train_data)\n",
        "text_vectorization.adapt(test_data)\n",
        "\n",
        "int_train_ds = text_vectorization(train_data)\n",
        "\n",
        "int_test_ds = text_vectorization(test_data)"
      ]
    },
    {
      "cell_type": "code",
      "execution_count": null,
      "metadata": {
        "id": "KU3vFJILEpl-"
      },
      "outputs": [],
      "source": [
        "import tensorflow as tf\n",
        "from tensorflow import keras\n",
        "from tensorflow.keras import layers\n",
        "\n",
        "class TransformerEncoder(layers.Layer):\n",
        "    def __init__(self, embed_dim, dense_dim, num_heads, **kwargs):\n",
        "        super().__init__(**kwargs)\n",
        "        self.embed_dim = embed_dim\n",
        "        self.dense_dim = dense_dim\n",
        "        self.num_heads = num_heads\n",
        "        self.attention = layers.MultiHeadAttention(\n",
        "            num_heads=num_heads, key_dim=embed_dim)\n",
        "        self.dense_proj = keras.Sequential(\n",
        "            [layers.Dense(dense_dim, activation=\"relu\"),\n",
        "             layers.Dense(embed_dim),]\n",
        "        )\n",
        "        self.layernorm_1 = layers.LayerNormalization()\n",
        "        self.layernorm_2 = layers.LayerNormalization()\n",
        "\n",
        "    def call(self, inputs, mask=None):\n",
        "        if mask is not None:\n",
        "            mask = mask[:, tf.newaxis, :]\n",
        "        attention_output = self.attention(\n",
        "            inputs, inputs, attention_mask=mask)\n",
        "        proj_input = self.layernorm_1(inputs + attention_output)\n",
        "        proj_output = self.dense_proj(proj_input)\n",
        "        return self.layernorm_2(proj_input + proj_output)\n",
        "\n",
        "    def get_config(self):\n",
        "        config = super().get_config()\n",
        "        config.update({\n",
        "            \"embed_dim\": self.embed_dim,\n",
        "            \"num_heads\": self.num_heads,\n",
        "            \"dense_dim\": self.dense_dim,\n",
        "        })\n",
        "        return config"
      ]
    },
    {
      "cell_type": "code",
      "execution_count": null,
      "metadata": {
        "colab": {
          "base_uri": "https://localhost:8080/"
        },
        "id": "b4e_zU-1Epl_",
        "outputId": "1e0f57d7-1073-4de0-e988-11c8ff5852b4"
      },
      "outputs": [],
      "source": [
        "vocab_size = 20000\n",
        "embed_dim = 256\n",
        "num_heads = 2\n",
        "dense_dim = 32\n",
        "\n",
        "inputs = keras.Input(shape=(None,), dtype=\"int64\")\n",
        "x = layers.Embedding(vocab_size, embed_dim)(inputs)\n",
        "x = TransformerEncoder(embed_dim, dense_dim, num_heads)(x)\n",
        "x = layers.GlobalMaxPooling1D()(x)\n",
        "x = layers.Dropout(0.5)(x)\n",
        "outputs = layers.Dense(1, activation=\"sigmoid\")(x)\n",
        "model = keras.Model(inputs, outputs)\n",
        "model.compile(optimizer=\"rmsprop\",\n",
        "              loss=\"binary_crossentropy\",\n",
        "              metrics=[\"accuracy\"])\n",
        "model.summary()"
      ]
    },
    {
      "cell_type": "code",
      "execution_count": null,
      "metadata": {
        "colab": {
          "base_uri": "https://localhost:8080/"
        },
        "id": "6Uu43RdyGPw-",
        "outputId": "bc7b266b-4b7a-4a52-e57e-69679012da0b"
      },
      "outputs": [],
      "source": [
        "if None in int_train_ds:\n",
        "    print(\"The array contains None values.\")\n",
        "else:\n",
        "    print(\"The array does not contain None values.\")"
      ]
    },
    {
      "cell_type": "code",
      "execution_count": null,
      "metadata": {
        "colab": {
          "base_uri": "https://localhost:8080/"
        },
        "id": "-OyL4F6JEpl_",
        "outputId": "0848c4f7-584f-47b6-ed74-28e06b2b82d1"
      },
      "outputs": [],
      "source": [
        "callbacks = [\n",
        "  keras.callbacks.EarlyStopping(\n",
        "        monitor=\"val_loss\",  # Metric to monitor\n",
        "        patience=3,  # Number of epochs with no improvement after which training will be stopped\n",
        "        restore_best_weights=True,  # Restore the weights of the best epoch\n",
        "    )\n",
        "]\n",
        "model.fit(int_train_ds, train_label, validation_split=0.4, epochs=20, callbacks=callbacks)"
      ]
    },
    {
      "cell_type": "code",
      "execution_count": null,
      "metadata": {
        "colab": {
          "base_uri": "https://localhost:8080/"
        },
        "id": "dKebkDGNFe3b",
        "outputId": "0aa86a88-b7f2-4a04-a802-a5f9fcc6769c"
      },
      "outputs": [],
      "source": [
        "print(model.evaluate(int_test_ds, test_label))"
      ]
    },
    {
      "cell_type": "code",
      "execution_count": null,
      "metadata": {
        "id": "y28HIH4NNyTw"
      },
      "outputs": [],
      "source": [
        "class PositionalEmbedding(layers.Layer):\n",
        "    def __init__(self, sequence_length, input_dim, output_dim, **kwargs):\n",
        "        super().__init__(**kwargs)\n",
        "        self.token_embeddings = layers.Embedding(\n",
        "            input_dim=input_dim, output_dim=output_dim)\n",
        "        self.position_embeddings = layers.Embedding(\n",
        "            input_dim=sequence_length, output_dim=output_dim)\n",
        "        self.sequence_length = sequence_length\n",
        "        self.input_dim = input_dim\n",
        "        self.output_dim = output_dim\n",
        "\n",
        "    def call(self, inputs):\n",
        "        length = tf.shape(inputs)[-1]\n",
        "        positions = tf.range(start=0, limit=length, delta=1)\n",
        "        embedded_tokens = self.token_embeddings(inputs)\n",
        "        embedded_positions = self.position_embeddings(positions)\n",
        "        return embedded_tokens + embedded_positions\n",
        "\n",
        "    def compute_mask(self, inputs, mask=None):\n",
        "        return tf.math.not_equal(inputs, 0)\n",
        "\n",
        "    def get_config(self):\n",
        "        config = super().get_config()\n",
        "        config.update({\n",
        "            \"output_dim\": self.output_dim,\n",
        "            \"sequence_length\": self.sequence_length,\n",
        "            \"input_dim\": self.input_dim,\n",
        "        })\n",
        "        return config"
      ]
    },
    {
      "cell_type": "code",
      "execution_count": null,
      "metadata": {
        "colab": {
          "base_uri": "https://localhost:8080/"
        },
        "id": "g3CIiHtuOATW",
        "outputId": "2308ca41-acb2-4dc3-960c-feaf9f76f66b"
      },
      "outputs": [],
      "source": [
        "vocab_size = 20000\n",
        "sequence_length = 600\n",
        "embed_dim = 256\n",
        "num_heads = 2\n",
        "dense_dim = 32\n",
        "\n",
        "inputs = keras.Input(shape=(None,), dtype=\"int64\")\n",
        "x = PositionalEmbedding(sequence_length, vocab_size, embed_dim)(inputs)\n",
        "x = TransformerEncoder(embed_dim, dense_dim, num_heads)(x)\n",
        "x = layers.GlobalMaxPooling1D()(x)\n",
        "x = layers.Dropout(0.5)(x)\n",
        "outputs = layers.Dense(1, activation=\"sigmoid\")(x)\n",
        "model = keras.Model(inputs, outputs)\n",
        "model.compile(optimizer=\"rmsprop\",\n",
        "              loss=\"binary_crossentropy\",\n",
        "              metrics=[\"accuracy\"])\n",
        "model.summary()\n",
        "\n",
        "callbacks = [\n",
        "  keras.callbacks.EarlyStopping(\n",
        "        monitor=\"val_loss\",  # Metric to monitor\n",
        "        patience=3,  # Number of epochs with no improvement after which training will be stopped\n",
        "        restore_best_weights=True,  # Restore the weights of the best epoch\n",
        "    )\n",
        "]\n"
      ]
    },
    {
      "cell_type": "code",
      "execution_count": null,
      "metadata": {
        "colab": {
          "base_uri": "https://localhost:8080/"
        },
        "id": "YfhJQJzzOW9v",
        "outputId": "adb5ef82-879d-4a44-df77-83f2a8f30626"
      },
      "outputs": [],
      "source": [
        "model.fit(int_train_ds,train_label, validation_split=0.4, epochs=20, callbacks=callbacks)\n"
      ]
    },
    {
      "cell_type": "code",
      "execution_count": null,
      "metadata": {
        "colab": {
          "base_uri": "https://localhost:8080/"
        },
        "id": "3V3m5sV_OCQd",
        "outputId": "d3038d34-b692-444f-e0d6-2fe95c387981"
      },
      "outputs": [],
      "source": [
        "model.evaluate(int_test_ds, test_label)"
      ]
    }
  ],
  "metadata": {
    "accelerator": "GPU",
    "colab": {
      "gpuType": "T4",
      "provenance": []
    },
    "kernelspec": {
      "display_name": "Python 3",
      "name": "python3"
    },
    "language_info": {
      "name": "python"
    },
    "orig_nbformat": 4
  },
  "nbformat": 4,
  "nbformat_minor": 0
}
