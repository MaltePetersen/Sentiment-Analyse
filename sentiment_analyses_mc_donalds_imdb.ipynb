{
 "cells": [
  {
   "attachments": {},
   "cell_type": "markdown",
   "metadata": {},
   "source": [
    "# Bag of Words Sentiment Analyse von McDonalds Reviews und IMBD Daten"
   ]
  },
  {
   "attachments": {},
   "cell_type": "markdown",
   "metadata": {},
   "source": [
    "## Zielsetzung \n",
    "In diesem Notebook erweitern wir die McDonald's-Daten mit IMDB-Daten, um die Auswirkungen auf die Genauigkeit zu erforschen. Dafür teilen wir die Daten in positive und negative Reviews auf, was zu nur zwei Labels führt. Die Baseline basierend auf dem gesunden Menschenverstand liegt daher bei einer Genauigkeit von 50%.\n",
    " Unser Ziel ist es herauszufinden, ob wir durch Hinzufügen immer mehr Daten eine allgemeine Semantikanalyse erreichen können, die auf jede beliebige Review angewendet werden kann."
   ]
  },
  {
   "cell_type": "code",
   "execution_count": 1,
   "metadata": {},
   "outputs": [
    {
     "name": "stderr",
     "output_type": "stream",
     "text": [
      "2023-07-03 16:50:00.801576: I tensorflow/core/platform/cpu_feature_guard.cc:182] This TensorFlow binary is optimized to use available CPU instructions in performance-critical operations.\n",
      "To enable the following instructions: AVX2 FMA, in other operations, rebuild TensorFlow with the appropriate compiler flags.\n"
     ]
    }
   ],
   "source": [
    "import pandas as pd\n",
    "import numpy as np\n",
    "from sklearn.model_selection import train_test_split\n",
    "import tensorflow as tf\n",
    "from tensorflow.keras.layers import TextVectorization\n",
    "from tensorflow import keras\n",
    "from tensorflow.keras import layers\n"
   ]
  },
  {
   "attachments": {},
   "cell_type": "markdown",
   "metadata": {},
   "source": [
    "## Datenvorbereitung inkl. Behandlung bekannter Probleme"
   ]
  },
  {
   "attachments": {},
   "cell_type": "markdown",
   "metadata": {},
   "source": [
    "### Laden der Daten"
   ]
  },
  {
   "cell_type": "code",
   "execution_count": null,
   "metadata": {},
   "outputs": [],
   "source": [
    "%pip install kaggle"
   ]
  },
  {
   "cell_type": "code",
   "execution_count": null,
   "metadata": {},
   "outputs": [],
   "source": [
    "!kaggle datasets download -d nelgiriyewithana/mcdonalds-store-reviews\n",
    "!unzip mcdonalds-store-reviews.zip"
   ]
  },
  {
   "cell_type": "code",
   "execution_count": 2,
   "metadata": {},
   "outputs": [
    {
     "name": "stdout",
     "output_type": "stream",
     "text": [
      "Warning: Your Kaggle API key is readable by other users on this system! To fix this, you can run 'chmod 600 /Users/mpetersen/.kaggle/kaggle.json'\n",
      "Downloading imdb-dataset-of-50k-movie-reviews.zip to /Users/mpetersen/Desktop/deep learning/project/DeeplearningwithPython2Enotebooks (3) 2/aclImdb/Word Sentiment Analyse zu Text Generierung\n",
      " 97%|████████████████████████████████████▉ | 25.0M/25.7M [00:13<00:00, 5.82MB/s]\n",
      "100%|██████████████████████████████████████| 25.7M/25.7M [00:13<00:00, 2.05MB/s]\n",
      "Archive:  imdb-dataset-of-50k-movie-reviews.zip\n",
      "  inflating: IMDB Dataset.csv        \n"
     ]
    }
   ],
   "source": [
    "!kaggle datasets download -d lakshmi25npathi/imdb-dataset-of-50k-movie-reviews\n",
    "!unzip imdb-dataset-of-50k-movie-reviews.zip"
   ]
  },
  {
   "cell_type": "code",
   "execution_count": 40,
   "metadata": {},
   "outputs": [],
   "source": [
    "df_mc = pd.read_csv('McDonald_s_Reviews.csv', encoding=\"latin-1\")\n",
    "df_imdb = pd.read_csv('IMDB Dataset.csv')\n"
   ]
  },
  {
   "attachments": {},
   "cell_type": "markdown",
   "metadata": {},
   "source": [
    "### Löschen der 3 Sterne Bewertungen beim McDonalds Dataset"
   ]
  },
  {
   "cell_type": "code",
   "execution_count": 41,
   "metadata": {},
   "outputs": [],
   "source": [
    "df_mc = df_mc[df_mc['rating'] != '3 stars']\n"
   ]
  },
  {
   "cell_type": "code",
   "execution_count": 83,
   "metadata": {},
   "outputs": [
    {
     "name": "stdout",
     "output_type": "stream",
     "text": [
      "Index(['reviewer_id', 'store_name', 'category', 'store_address', 'latitude ',\n",
      "       'longitude', 'rating_count', 'review_time', 'review', 'rating'],\n",
      "      dtype='object')\n",
      "Index(['review', 'sentiment'], dtype='object')\n"
     ]
    }
   ],
   "source": [
    "print(df_mc.columns)\n",
    "print(df_imdb.columns)"
   ]
  },
  {
   "attachments": {},
   "cell_type": "markdown",
   "metadata": {},
   "source": [
    "### Konvertierung der train data zu numpy arrays"
   ]
  },
  {
   "cell_type": "code",
   "execution_count": 42,
   "metadata": {},
   "outputs": [],
   "source": [
    "data_mc = df_mc['review'].to_numpy()\n",
    "data_imdb = df_imdb['review'].to_numpy()\n"
   ]
  },
  {
   "attachments": {},
   "cell_type": "markdown",
   "metadata": {},
   "source": [
    "### Konvertierung der Datasets von string labels zu Nummern"
   ]
  },
  {
   "cell_type": "code",
   "execution_count": 43,
   "metadata": {},
   "outputs": [],
   "source": [
    "rating_mapping_imdb = {\n",
    "    'positive': 1,\n",
    "    'negative': 0,\n",
    "}\n",
    "\n",
    "label_imdb = df_imdb['sentiment'].map(rating_mapping_imdb).to_numpy()\n"
   ]
  },
  {
   "cell_type": "code",
   "execution_count": 44,
   "metadata": {},
   "outputs": [],
   "source": [
    "rating_mapping_mc = {\n",
    "    '1 star': 0,\n",
    "    '2 stars': 0,\n",
    "    '4 stars': 1,\n",
    "    '5 stars': 1\n",
    "}\n",
    "\n",
    "label_mc = df_mc['rating'].map(rating_mapping_mc).to_numpy()"
   ]
  },
  {
   "attachments": {},
   "cell_type": "markdown",
   "metadata": {},
   "source": [
    "### Daten zusammenführen"
   ]
  },
  {
   "cell_type": "code",
   "execution_count": 45,
   "metadata": {},
   "outputs": [
    {
     "name": "stdout",
     "output_type": "stream",
     "text": [
      "(78578,)\n",
      "(78578,)\n"
     ]
    }
   ],
   "source": [
    "data = np.append(data_imdb, data_mc)\n",
    "label = np.append(label_imdb,label_mc)\n",
    "print(data.shape)\n",
    "print(label.shape)"
   ]
  },
  {
   "attachments": {},
   "cell_type": "markdown",
   "metadata": {},
   "source": [
    "### Aufteilung in Trainings, Validierungs und Testdaten"
   ]
  },
  {
   "cell_type": "code",
   "execution_count": 46,
   "metadata": {},
   "outputs": [
    {
     "name": "stdout",
     "output_type": "stream",
     "text": [
      "(62862,)\n",
      "(15716,)\n",
      "(62862,)\n",
      "(15716,)\n"
     ]
    }
   ],
   "source": [
    "train_data, test_data, train_label, test_label = train_test_split(data, label, test_size=0.2, random_state=42)\n",
    "\n",
    "print(train_data.shape)\n",
    "print(test_data.shape)\n",
    "print(train_label.shape)\n",
    "print(test_label.shape)"
   ]
  },
  {
   "attachments": {},
   "cell_type": "markdown",
   "metadata": {},
   "source": [
    "#### McDonalds Train/Test split\n",
    "\n",
    "Um die Veränderung des Ergbnisses, durch das Einführen von Testsdaten vergleichen zu können, werden wir später auch noch ein Model nur mit den McD Daten trainieren"
   ]
  },
  {
   "cell_type": "code",
   "execution_count": 47,
   "metadata": {},
   "outputs": [
    {
     "name": "stdout",
     "output_type": "stream",
     "text": [
      "(22862,)\n",
      "(5716,)\n",
      "(22862,)\n",
      "(5716,)\n"
     ]
    }
   ],
   "source": [
    "train_data_mc, test_data_mc, train_label_mc, test_label_mc = train_test_split(data_mc, label_mc, test_size=0.2, random_state=42)\n",
    "\n",
    "print(train_data_mc.shape)\n",
    "print(test_data_mc.shape)\n",
    "print(train_label_mc.shape)\n",
    "print(test_label_mc.shape)"
   ]
  },
  {
   "attachments": {},
   "cell_type": "markdown",
   "metadata": {},
   "source": [
    "#### IMDB Train/Test split\n",
    "\n",
    "Um die Veränderung des Ergbnisses, durch das Einführen von Testsdaten vergleichen zu können, werden wir später auch noch ein Model nur mit den McD Daten trainieren"
   ]
  },
  {
   "cell_type": "code",
   "execution_count": 48,
   "metadata": {},
   "outputs": [
    {
     "name": "stdout",
     "output_type": "stream",
     "text": [
      "(40000,)\n",
      "(10000,)\n",
      "(40000,)\n",
      "(10000,)\n"
     ]
    }
   ],
   "source": [
    "train_data_imdb, test_data_imdb, train_label_imdb, test_label_imdb = train_test_split(data_imdb, label_imdb, test_size=0.2, random_state=42)\n",
    "\n",
    "print(train_data_imdb.shape)\n",
    "print(test_data_imdb.shape)\n",
    "print(train_label_imdb.shape)\n",
    "print(test_label_imdb.shape)"
   ]
  },
  {
   "attachments": {},
   "cell_type": "markdown",
   "metadata": {},
   "source": [
    "### Text zu Dictonary Repräsentationen umbauen\n",
    "Erklärung Menge an Tokens\n",
    "Erklärung ngrams \n",
    "Erklärung multi_hot und warum"
   ]
  },
  {
   "cell_type": "code",
   "execution_count": 80,
   "metadata": {},
   "outputs": [],
   "source": [
    "text_vectorization = TextVectorization(\n",
    " max_tokens=30000,\n",
    "ngrams=3,\n",
    " output_mode=\"multi_hot\",\n",
    ")"
   ]
  },
  {
   "cell_type": "code",
   "execution_count": 81,
   "metadata": {},
   "outputs": [],
   "source": [
    "text_vectorization.adapt(train_data) \n",
    "text_vectorization.adapt(test_data) \n",
    "\n",
    "multi_hot_train_data = text_vectorization(train_data)\n",
    "multi_hot_test_data = text_vectorization(test_data)"
   ]
  },
  {
   "attachments": {},
   "cell_type": "markdown",
   "metadata": {},
   "source": [
    "#### Text Vectorization für McD"
   ]
  },
  {
   "cell_type": "code",
   "execution_count": 82,
   "metadata": {},
   "outputs": [],
   "source": [
    "text_vectorization_mc = TextVectorization(\n",
    " max_tokens=30000,\n",
    "ngrams=3,\n",
    " output_mode=\"multi_hot\",\n",
    ")\n",
    "\n",
    "text_vectorization_mc.adapt(train_data_mc) \n",
    "text_vectorization_mc.adapt(test_data_mc) \n",
    "\n",
    "multi_hot_train_data_mc = text_vectorization_mc(train_data_mc)\n",
    "multi_hot_test_data_mc = text_vectorization_mc(test_data_mc)"
   ]
  },
  {
   "attachments": {},
   "cell_type": "markdown",
   "metadata": {},
   "source": [
    "#### Text Vectorization für IMDB"
   ]
  },
  {
   "cell_type": "code",
   "execution_count": 84,
   "metadata": {},
   "outputs": [],
   "source": [
    "text_vectorization_imdb = TextVectorization(\n",
    " max_tokens=30000,\n",
    "ngrams=3,\n",
    " output_mode=\"multi_hot\",\n",
    ")\n",
    "\n",
    "text_vectorization_imdb.adapt(train_data_imdb) \n",
    "text_vectorization_imdb.adapt(test_data_imdb) \n",
    "\n",
    "multi_hot_train_data_imdb = text_vectorization_imdb(train_data_imdb)\n",
    "multi_hot_test_data_imdb = text_vectorization_imdb(test_data_imdb)"
   ]
  },
  {
   "attachments": {},
   "cell_type": "markdown",
   "metadata": {},
   "source": [
    "## Erstellung eines entsprechenden künstlichen neuronalen Models sowie geeigente Benchmarks"
   ]
  },
  {
   "cell_type": "code",
   "execution_count": 86,
   "metadata": {},
   "outputs": [
    {
     "name": "stdout",
     "output_type": "stream",
     "text": [
      "Model: \"model_7\"\n",
      "_________________________________________________________________\n",
      " Layer (type)                Output Shape              Param #   \n",
      "=================================================================\n",
      " input_8 (InputLayer)        [(None, 30000)]           0         \n",
      "                                                                 \n",
      " dense_28 (Dense)            (None, 64)                1920064   \n",
      "                                                                 \n",
      " dense_29 (Dense)            (None, 32)                2080      \n",
      "                                                                 \n",
      " dropout_7 (Dropout)         (None, 32)                0         \n",
      "                                                                 \n",
      " dense_30 (Dense)            (None, 16)                528       \n",
      "                                                                 \n",
      " dense_31 (Dense)            (None, 1)                 17        \n",
      "                                                                 \n",
      "=================================================================\n",
      "Total params: 1,922,689\n",
      "Trainable params: 1,922,689\n",
      "Non-trainable params: 0\n",
      "_________________________________________________________________\n"
     ]
    }
   ],
   "source": [
    "def get_model(max_tokens=30000, hidden_dim=64):\n",
    " inputs = keras.Input(shape=(max_tokens,))\n",
    " x = layers.Dense(hidden_dim, activation=\"relu\")(inputs)\n",
    " x = layers.Dense(32, activation=\"relu\")(x)\n",
    " x = layers.Dropout(0.5)(x)\n",
    " x = layers.Dense(16, activation=\"relu\")(x)\n",
    " outputs = layers.Dense(1, activation=\"sigmoid\")(x)\n",
    " model = keras.Model(inputs, outputs)\n",
    " model.compile(optimizer=\"rmsprop\",\n",
    " loss=\"binary_crossentropy\",\n",
    " metrics=[\"accuracy\"], \n",
    " )\n",
    " return model\n",
    "\n",
    "model = get_model()\n",
    "model.summary()\n"
   ]
  },
  {
   "cell_type": "code",
   "execution_count": 87,
   "metadata": {},
   "outputs": [],
   "source": [
    "callbacks = [\n",
    "    keras.callbacks.EarlyStopping(\n",
    "        monitor=\"val_loss\",  # Metric to monitor\n",
    "        patience=3,  # Number of epochs with no improvement after which training will be stopped\n",
    "        restore_best_weights=True,  # Restore the weights of the best epoch\n",
    "    )\n",
    "]"
   ]
  },
  {
   "cell_type": "code",
   "execution_count": 88,
   "metadata": {},
   "outputs": [
    {
     "name": "stdout",
     "output_type": "stream",
     "text": [
      "Epoch 1/10\n"
     ]
    },
    {
     "name": "stdout",
     "output_type": "stream",
     "text": [
      "1179/1179 [==============================] - 28s 23ms/step - loss: 0.3322 - accuracy: 0.8684 - val_loss: 0.2705 - val_accuracy: 0.8961\n",
      "Epoch 2/10\n",
      "1179/1179 [==============================] - 28s 24ms/step - loss: 0.1921 - accuracy: 0.9322 - val_loss: 0.2868 - val_accuracy: 0.9001\n",
      "Epoch 3/10\n",
      "1179/1179 [==============================] - 27s 23ms/step - loss: 0.1341 - accuracy: 0.9557 - val_loss: 0.3847 - val_accuracy: 0.8985\n",
      "Epoch 4/10\n",
      "1179/1179 [==============================] - 26s 22ms/step - loss: 0.0939 - accuracy: 0.9700 - val_loss: 0.5719 - val_accuracy: 0.8979\n"
     ]
    }
   ],
   "source": [
    "history = model.fit(multi_hot_train_data,train_label,\n",
    "validation_split=0.4,\n",
    " epochs=10, \n",
    " callbacks= callbacks\n",
    " )"
   ]
  },
  {
   "cell_type": "code",
   "execution_count": 89,
   "metadata": {},
   "outputs": [
    {
     "data": {
      "image/png": "[encoded data removed]",
      "text/plain": [
       "<Figure size 640x480 with 1 Axes>"
      ]
     },
     "metadata": {},
     "output_type": "display_data"
    }
   ],
   "source": [
    "import matplotlib.pyplot as plt\n",
    "history_dict = history.history\n",
    "loss_values = history_dict[\"loss\"]\n",
    "val_loss_values = history_dict[\"val_loss\"]\n",
    "epochs = range(1, len(loss_values) + 1)\n",
    "plt.plot(epochs, loss_values, \"bo\", label=\"Training loss\")\n",
    "plt.plot(epochs, val_loss_values, \"b\", label=\"Validation loss\")\n",
    "plt.title(\"Training and validation loss\")\n",
    "plt.xlabel(\"Epochs\")\n",
    "plt.ylabel(\"Loss\")\n",
    "plt.legend()\n",
    "plt.show()"
   ]
  },
  {
   "attachments": {},
   "cell_type": "markdown",
   "metadata": {},
   "source": [
    "### Evaluierung auf alle Daten\n"
   ]
  },
  {
   "cell_type": "code",
   "execution_count": 90,
   "metadata": {},
   "outputs": [
    {
     "name": "stdout",
     "output_type": "stream",
     "text": [
      "  1/492 [..............................] - ETA: 17s - loss: 0.2710 - accuracy: 0.8750"
     ]
    },
    {
     "name": "stdout",
     "output_type": "stream",
     "text": [
      "492/492 [==============================] - 2s 5ms/step - loss: 0.2562 - accuracy: 0.9017\n"
     ]
    },
    {
     "data": {
      "text/plain": [
       "[0.2561749219894409, 0.9016925692558289]"
      ]
     },
     "execution_count": 90,
     "metadata": {},
     "output_type": "execute_result"
    }
   ],
   "source": [
    "model.evaluate(multi_hot_test_data, test_label)"
   ]
  },
  {
   "attachments": {},
   "cell_type": "markdown",
   "metadata": {},
   "source": [
    "### Evalurierung nur auf die McDonalds Daten"
   ]
  },
  {
   "cell_type": "code",
   "execution_count": 91,
   "metadata": {},
   "outputs": [
    {
     "name": "stdout",
     "output_type": "stream",
     "text": [
      "  1/179 [..............................] - ETA: 13s - loss: 0.5909 - accuracy: 0.6875"
     ]
    },
    {
     "name": "stdout",
     "output_type": "stream",
     "text": [
      "179/179 [==============================] - 1s 6ms/step - loss: 0.7249 - accuracy: 0.5913\n"
     ]
    },
    {
     "data": {
      "text/plain": [
       "[0.7248671650886536, 0.5913226008415222]"
      ]
     },
     "execution_count": 91,
     "metadata": {},
     "output_type": "execute_result"
    }
   ],
   "source": [
    "model.evaluate(multi_hot_test_data_mc, test_label_mc)"
   ]
  },
  {
   "attachments": {},
   "cell_type": "markdown",
   "metadata": {},
   "source": [
    "### Evalurierung nur auf die IMDB Daten"
   ]
  },
  {
   "cell_type": "code",
   "execution_count": 92,
   "metadata": {},
   "outputs": [
    {
     "name": "stdout",
     "output_type": "stream",
     "text": [
      "313/313 [==============================] - 1s 4ms/step - loss: 1.1925 - accuracy: 0.5167\n"
     ]
    },
    {
     "data": {
      "text/plain": [
       "[1.192488431930542, 0.516700029373169]"
      ]
     },
     "execution_count": 92,
     "metadata": {},
     "output_type": "execute_result"
    }
   ],
   "source": [
    "model.evaluate(multi_hot_test_data_imdb, test_label_imdb)"
   ]
  },
  {
   "attachments": {},
   "cell_type": "markdown",
   "metadata": {},
   "source": [
    "## Vergleich nur McDonalds Daten"
   ]
  },
  {
   "cell_type": "code",
   "execution_count": 93,
   "metadata": {},
   "outputs": [
    {
     "name": "stdout",
     "output_type": "stream",
     "text": [
      "Epoch 1/10\n",
      "429/429 [==============================] - 12s 27ms/step - loss: 0.3199 - accuracy: 0.8806 - val_loss: 0.2212 - val_accuracy: 0.9142\n",
      "Epoch 2/10\n",
      "429/429 [==============================] - 9s 22ms/step - loss: 0.1686 - accuracy: 0.9425 - val_loss: 0.2332 - val_accuracy: 0.9174\n",
      "Epoch 3/10\n",
      "429/429 [==============================] - 10s 24ms/step - loss: 0.1242 - accuracy: 0.9582 - val_loss: 0.2698 - val_accuracy: 0.9188\n",
      "Epoch 4/10\n",
      "429/429 [==============================] - 9s 22ms/step - loss: 0.0988 - accuracy: 0.9687 - val_loss: 0.3187 - val_accuracy: 0.9182\n"
     ]
    },
    {
     "data": {
      "text/plain": [
       "<keras.callbacks.History at 0x14957bad0>"
      ]
     },
     "execution_count": 93,
     "metadata": {},
     "output_type": "execute_result"
    }
   ],
   "source": [
    "model_mc = get_model()\n",
    "model_mc.fit(multi_hot_train_data_mc,train_label_mc,\n",
    "validation_split=0.4,\n",
    " epochs=10, \n",
    " callbacks= callbacks\n",
    " )"
   ]
  },
  {
   "attachments": {},
   "cell_type": "markdown",
   "metadata": {},
   "source": [
    "### McDonalds Model auf McDonalds Model Testen"
   ]
  },
  {
   "cell_type": "code",
   "execution_count": 94,
   "metadata": {},
   "outputs": [
    {
     "name": "stdout",
     "output_type": "stream",
     "text": [
      "179/179 [==============================] - 1s 5ms/step - loss: 0.2230 - accuracy: 0.9120\n"
     ]
    },
    {
     "data": {
      "text/plain": [
       "[0.22297805547714233, 0.912001371383667]"
      ]
     },
     "execution_count": 94,
     "metadata": {},
     "output_type": "execute_result"
    }
   ],
   "source": [
    "model_mc.evaluate(multi_hot_test_data_mc, test_label_mc)"
   ]
  },
  {
   "attachments": {},
   "cell_type": "markdown",
   "metadata": {},
   "source": [
    "### McDonalds Model auf IMDB Daten testen"
   ]
  },
  {
   "cell_type": "code",
   "execution_count": 95,
   "metadata": {},
   "outputs": [
    {
     "name": "stdout",
     "output_type": "stream",
     "text": [
      "313/313 [==============================] - 1s 3ms/step - loss: 3.3639 - accuracy: 0.4957\n"
     ]
    },
    {
     "data": {
      "text/plain": [
       "[3.3638761043548584, 0.49570000171661377]"
      ]
     },
     "execution_count": 95,
     "metadata": {},
     "output_type": "execute_result"
    }
   ],
   "source": [
    "model_mc.evaluate(multi_hot_test_data_imdb, test_label_imdb)"
   ]
  },
  {
   "attachments": {},
   "cell_type": "markdown",
   "metadata": {},
   "source": [
    "### McDonalds Model auf allgemeine Daten testen"
   ]
  },
  {
   "cell_type": "code",
   "execution_count": 96,
   "metadata": {},
   "outputs": [
    {
     "name": "stdout",
     "output_type": "stream",
     "text": [
      "492/492 [==============================] - 2s 4ms/step - loss: 2.6381 - accuracy: 0.5275\n"
     ]
    },
    {
     "data": {
      "text/plain": [
       "[2.6380579471588135, 0.5274879336357117]"
      ]
     },
     "execution_count": 96,
     "metadata": {},
     "output_type": "execute_result"
    }
   ],
   "source": [
    "model_mc.evaluate(multi_hot_test_data, test_label)"
   ]
  },
  {
   "attachments": {},
   "cell_type": "markdown",
   "metadata": {},
   "source": [
    "## Vergleich IMDB Model"
   ]
  },
  {
   "cell_type": "code",
   "execution_count": 97,
   "metadata": {},
   "outputs": [
    {
     "name": "stdout",
     "output_type": "stream",
     "text": [
      "Epoch 1/10\n",
      "750/750 [==============================] - 16s 21ms/step - loss: 0.3431 - accuracy: 0.8624 - val_loss: 0.3004 - val_accuracy: 0.8830\n",
      "Epoch 2/10\n",
      "750/750 [==============================] - 15s 21ms/step - loss: 0.1654 - accuracy: 0.9438 - val_loss: 0.2702 - val_accuracy: 0.8968\n",
      "Epoch 3/10\n",
      "750/750 [==============================] - 15s 21ms/step - loss: 0.0962 - accuracy: 0.9714 - val_loss: 0.3804 - val_accuracy: 0.8934\n",
      "Epoch 4/10\n",
      "750/750 [==============================] - 15s 20ms/step - loss: 0.0518 - accuracy: 0.9863 - val_loss: 0.5839 - val_accuracy: 0.8920\n",
      "Epoch 5/10\n",
      "750/750 [==============================] - 16s 21ms/step - loss: 0.0274 - accuracy: 0.9936 - val_loss: 0.8186 - val_accuracy: 0.8911\n"
     ]
    },
    {
     "data": {
      "text/plain": [
       "<keras.callbacks.History at 0x14c35bad0>"
      ]
     },
     "execution_count": 97,
     "metadata": {},
     "output_type": "execute_result"
    }
   ],
   "source": [
    "\n",
    "model_imdb = get_model()\n",
    "model_imdb.fit(multi_hot_train_data_imdb,train_label_imdb,\n",
    "validation_split=0.4,\n",
    " epochs=10, \n",
    " callbacks= callbacks\n",
    " )"
   ]
  },
  {
   "attachments": {},
   "cell_type": "markdown",
   "metadata": {},
   "source": [
    "### IMDB Model auf IMDB Model Testen"
   ]
  },
  {
   "cell_type": "code",
   "execution_count": 98,
   "metadata": {},
   "outputs": [
    {
     "name": "stdout",
     "output_type": "stream",
     "text": [
      "313/313 [==============================] - 1s 4ms/step - loss: 0.2586 - accuracy: 0.9028\n"
     ]
    },
    {
     "data": {
      "text/plain": [
       "[0.2585511803627014, 0.9028000235557556]"
      ]
     },
     "execution_count": 98,
     "metadata": {},
     "output_type": "execute_result"
    }
   ],
   "source": [
    "model_imdb.evaluate(multi_hot_test_data_imdb, test_label_imdb)"
   ]
  },
  {
   "attachments": {},
   "cell_type": "markdown",
   "metadata": {},
   "source": [
    "### IMDB Model auf McDonalds Daten Testen"
   ]
  },
  {
   "cell_type": "code",
   "execution_count": 99,
   "metadata": {},
   "outputs": [
    {
     "name": "stdout",
     "output_type": "stream",
     "text": [
      "179/179 [==============================] - 1s 4ms/step - loss: 0.8005 - accuracy: 0.4830\n"
     ]
    },
    {
     "data": {
      "text/plain": [
       "[0.8004645109176636, 0.4830300807952881]"
      ]
     },
     "execution_count": 99,
     "metadata": {},
     "output_type": "execute_result"
    }
   ],
   "source": [
    "model_imdb.evaluate(multi_hot_test_data_mc, test_label_mc)"
   ]
  },
  {
   "attachments": {},
   "cell_type": "markdown",
   "metadata": {},
   "source": [
    "### IMDB Model auf allgemeines Datenset"
   ]
  },
  {
   "cell_type": "code",
   "execution_count": 100,
   "metadata": {},
   "outputs": [
    {
     "name": "stdout",
     "output_type": "stream",
     "text": [
      "  1/492 [..............................] - ETA: 13s - loss: 1.4139 - accuracy: 0.3438"
     ]
    },
    {
     "name": "stdout",
     "output_type": "stream",
     "text": [
      "492/492 [==============================] - 2s 4ms/step - loss: 0.9894 - accuracy: 0.5430\n"
     ]
    },
    {
     "data": {
      "text/plain": [
       "[0.9893977046012878, 0.5430135130882263]"
      ]
     },
     "execution_count": 100,
     "metadata": {},
     "output_type": "execute_result"
    }
   ],
   "source": [
    "model_imdb.evaluate(multi_hot_test_data, test_label)"
   ]
  },
  {
   "attachments": {},
   "cell_type": "markdown",
   "metadata": {},
   "source": [
    "## Fazit"
   ]
  },
  {
   "attachments": {},
   "cell_type": "markdown",
   "metadata": {},
   "source": [
    "\n",
    "Mehr Daten ermöglichen die Lösung allgemeinerer Probleme, führen jedoch zu einer verringerten Genauigkeit bei spezifischeren Modellen. Ein Problem in unserem Modell besteht darin, dass wir nicht gleich viele Trainingsdaten von IMDB und McDonald's haben, wodurch das Modell stärker auf Movie Reviews gewichtet wird.\n",
    "\n",
    "Das allgemeine Modell erzielt eine Genauigkeit von 90% auf den allgemeinen Daten, aber bei der Evaluierung nur auf die McDonald's- oder IMDB-Reviews schafft es knapp oder gar nicht, die Common-Sense-Baseline zu übertreffen. Dennoch sind die Ergebnisse hier etwas besser als bei der Verwendung des IMDB-Modells auf den McDonald's-Daten oder des McDonald's-Modells auf den IMDB-Daten. Daher wäre anzunehmen, dass die Genauigkeit steigen würde, wenn wir mehr Reviews hinzufügen (z. B. Amazon-Reviews). Dadurch könnte langfristig eine semantische Analyse für alle Arten von Reviews erstellt werden."
   ]
  }
 ],
 "metadata": {
  "kernelspec": {
   "display_name": "Python 3",
   "language": "python",
   "name": "python3"
  },
  "language_info": {
   "codemirror_mode": {
    "name": "ipython",
    "version": 3
   },
   "file_extension": ".py",
   "mimetype": "text/x-python",
   "name": "python",
   "nbconvert_exporter": "python",
   "pygments_lexer": "ipython3",
   "version": "3.11.4"
  },
  "orig_nbformat": 4
 },
 "nbformat": 4,
 "nbformat_minor": 2
}
