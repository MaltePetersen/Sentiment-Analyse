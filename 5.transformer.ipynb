{
  "cells": [
    {
      "attachments": {},
      "cell_type": "markdown",
      "metadata": {
        "id": "JSBfIPhUEpl2"
      },
      "source": [
        "# Sentiment Analyse mit Transformers"
      ]
    },
    {
      "attachments": {},
      "cell_type": "markdown",
      "metadata": {
        "id": "auY0w_QaEpl4"
      },
      "source": [
        "Zielsetzung: In diesem Notebook verwenden wir einen Transformer zur Analyse unserer Daten. Basierend auf den Erkenntnissen aus dem vorherigen Kapitel sollte dieser theoretisch eine schlechtere Performance aufweisen als das Bag-of-Words-Modell aus den ersten Notebooks, jedoch besser abschneiden als das LSTM-Modell."
      ]
    },
    {
      "attachments": {},
      "cell_type": "markdown",
      "metadata": {
        "id": "gfObZCUVEpl5"
      },
      "source": [
        "Alle Imports:"
      ]
    },
    {
      "cell_type": "code",
      "execution_count": 1,
      "metadata": {
        "id": "0qO7-nR_Epl5"
      },
      "outputs": [],
      "source": [
        "from silence_tensorflow import silence_tensorflow\n",
        "silence_tensorflow()\n",
        "\n",
        "import pandas as pd\n",
        "import numpy as np\n",
        "from sklearn.model_selection import train_test_split\n",
        "import tensorflow as tf\n",
        "from tensorflow.keras.layers import TextVectorization\n",
        "from tensorflow import keras\n",
        "from tensorflow.keras import layers\n",
        "from utils.text_utils import clean_text\n",
        "from utils.plot_utils import plot_history_metrics, get_classification_report"
      ]
    },
    {
      "attachments": {},
      "cell_type": "markdown",
      "metadata": {},
      "source": [
        "## Reduzierte Ausführungszeit durch lokale Ausführung\n",
        "Da nicht jeder über eine leistungsstarke Grafikkarte mit GPU-Unterstützung verfügt, kann die Ausführung von LSTMs zeitaufwändig sein. Eine effektive Alternative zur lokalen Ausführung bietet Google Colab. Dieser Dienst ermöglicht die kostenlose Ausführung des Codes mit GPU-Unterstützung. Obwohl die Authentifizierung bei Diensten wie Kaggle etwas komplexer sein kann, haben wir in den Notebooks Tools integriert, die eine einfache Authentifizierung in Google Colab ermöglichen."
      ]
    },
    {
      "attachments": {},
      "cell_type": "markdown",
      "metadata": {},
      "source": [
        "## Authentifizierung bei Kaggle\n",
        "Navigieren Sie zu https://www.kaggle.com. Gehen Sie dann zu Ihrem [Benutzerprofils](https://www.kaggle.com/me/account) und wählen Sie \"API-Token erstellen\" aus. Dadurch wird die Datei kaggle.json heruntergeladen, die Ihre API-Zugangsdaten enthalten.\n",
        "\n",
        "Führen Sie anschließend die nachstehende Zelle aus, um kaggle.json in Ihrer Colab-Laufzeit hochzuladen."
      ]
    },
    {
      "cell_type": "code",
      "execution_count": 2,
      "metadata": {
        "colab": {
          "base_uri": "https://localhost:8080/",
          "height": 92
        },
        "id": "ozD0wXHNEpl7",
        "outputId": "b9f2d844-ba73-4678-f634-4040f773c7fd"
      },
      "outputs": [],
      "source": [
        "# Don't run this if you run the notebook locally\n",
        "# from google.colab import files\n",
        "    \n",
        "# uploaded = files.upload()\n",
        "\n",
        "# for fn in uploaded.keys():\n",
        "#     print('User uploaded file \"{name}\" with length {length} bytes'.format(\n",
        "#             name=fn, length=len(uploaded[fn])))\n",
        "\n",
        "# # Then move kaggle.json into the folder where the API expects to find it.\n",
        "# !mkdir -p ~/.kaggle/ && mv kaggle.json ~/.kaggle/ && chmod 600 ~/.kaggle/kaggle.json"
      ]
    },
    {
      "attachments": {},
      "cell_type": "markdown",
      "metadata": {},
      "source": [
        "## Herunterladen der Daten"
      ]
    },
    {
      "cell_type": "code",
      "execution_count": 3,
      "metadata": {
        "colab": {
          "base_uri": "https://localhost:8080/"
        },
        "id": "PGYJByMzEpl8",
        "outputId": "e7104179-b96f-4e03-9fce-612fef03eb68"
      },
      "outputs": [
        {
          "name": "stdout",
          "output_type": "stream",
          "text": [
            "Unzipping McDonalds dataset...\n",
            "/usr/bin/zsh: /home/x/miniconda3/envs/tf/lib/libtinfo.so.6: no version information available (required by /usr/bin/zsh)\n",
            "Archive:  mcdonalds-store-reviews.zip\n",
            "Unzipping IMDB dataset...\n",
            "/usr/bin/zsh: /home/x/miniconda3/envs/tf/lib/libtinfo.so.6: no version information available (required by /usr/bin/zsh)\n",
            "Archive:  imdb-dataset-of-50k-movie-reviews.zip\n"
          ]
        }
      ],
      "source": [
        "import os\n",
        "\n",
        "# Download McDonalds dataset\n",
        "if not os.path.exists('mcdonalds-store-reviews.zip'):\n",
        "    print(\"Downloading McDonalds dataset...\")\n",
        "    !kaggle datasets download -d nelgiriyewithana/mcdonalds-store-reviews\n",
        "if os.path.exists('mcdonalds-store-reviews.zip'):\n",
        "    print(\"Unzipping McDonalds dataset...\")\n",
        "    !unzip -n mcdonalds-store-reviews.zip\n",
        "\n",
        "# Download IMDB dataset\n",
        "if not os.path.exists('imdb-dataset-of-50k-movie-reviews.zip'):\n",
        "    print(\"Downloading IMDB dataset...\")\n",
        "    !kaggle datasets download -d lakshmi25npathi/imdb-dataset-of-50k-movie-reviews\n",
        "if os.path.exists('imdb-dataset-of-50k-movie-reviews.zip'):\n",
        "    print(\"Unzipping IMDB dataset...\")\n",
        "    !unzip -n imdb-dataset-of-50k-movie-reviews.zip"
      ]
    },
    {
      "attachments": {},
      "cell_type": "markdown",
      "metadata": {},
      "source": [
        "## Prozessierung der Daten\n",
        "Die Prozessierung wird nicht weiterbeschrieben, weil sie identisch zum letzten Notebook ist. "
      ]
    },
    {
      "cell_type": "code",
      "execution_count": 4,
      "metadata": {},
      "outputs": [],
      "source": [
        "df_mc = pd.read_csv('McDonald_s_Reviews.csv', encoding=\"latin-1\")\n",
        "df_imdb = pd.read_csv('IMDB Dataset.csv')"
      ]
    },
    {
      "cell_type": "code",
      "execution_count": 5,
      "metadata": {},
      "outputs": [
        {
          "data": {
            "text/html": [
              "<div>\n",
              "<style scoped>\n",
              "    .dataframe tbody tr th:only-of-type {\n",
              "        vertical-align: middle;\n",
              "    }\n",
              "\n",
              "    .dataframe tbody tr th {\n",
              "        vertical-align: top;\n",
              "    }\n",
              "\n",
              "    .dataframe thead th {\n",
              "        text-align: right;\n",
              "    }\n",
              "</style>\n",
              "<table border=\"1\" class=\"dataframe\">\n",
              "  <thead>\n",
              "    <tr style=\"text-align: right;\">\n",
              "      <th></th>\n",
              "      <th>reviewer_id</th>\n",
              "      <th>store_name</th>\n",
              "      <th>category</th>\n",
              "      <th>store_address</th>\n",
              "      <th>latitude</th>\n",
              "      <th>longitude</th>\n",
              "      <th>rating_count</th>\n",
              "      <th>review_time</th>\n",
              "      <th>review</th>\n",
              "      <th>rating</th>\n",
              "    </tr>\n",
              "  </thead>\n",
              "  <tbody>\n",
              "    <tr>\n",
              "      <th>0</th>\n",
              "      <td>1</td>\n",
              "      <td>McDonald's</td>\n",
              "      <td>Fast food restaurant</td>\n",
              "      <td>13749 US-183 Hwy, Austin, TX 78750, United States</td>\n",
              "      <td>30.460718</td>\n",
              "      <td>-97.792874</td>\n",
              "      <td>1,240</td>\n",
              "      <td>3 months ago</td>\n",
              "      <td>Why does it look like someone spit on my food?...</td>\n",
              "      <td>1 star</td>\n",
              "    </tr>\n",
              "    <tr>\n",
              "      <th>1</th>\n",
              "      <td>2</td>\n",
              "      <td>McDonald's</td>\n",
              "      <td>Fast food restaurant</td>\n",
              "      <td>13749 US-183 Hwy, Austin, TX 78750, United States</td>\n",
              "      <td>30.460718</td>\n",
              "      <td>-97.792874</td>\n",
              "      <td>1,240</td>\n",
              "      <td>5 days ago</td>\n",
              "      <td>It'd McDonalds. It is what it is as far as the...</td>\n",
              "      <td>4 stars</td>\n",
              "    </tr>\n",
              "    <tr>\n",
              "      <th>2</th>\n",
              "      <td>3</td>\n",
              "      <td>McDonald's</td>\n",
              "      <td>Fast food restaurant</td>\n",
              "      <td>13749 US-183 Hwy, Austin, TX 78750, United States</td>\n",
              "      <td>30.460718</td>\n",
              "      <td>-97.792874</td>\n",
              "      <td>1,240</td>\n",
              "      <td>5 days ago</td>\n",
              "      <td>Made a mobile order got to the speaker and che...</td>\n",
              "      <td>1 star</td>\n",
              "    </tr>\n",
              "    <tr>\n",
              "      <th>3</th>\n",
              "      <td>4</td>\n",
              "      <td>McDonald's</td>\n",
              "      <td>Fast food restaurant</td>\n",
              "      <td>13749 US-183 Hwy, Austin, TX 78750, United States</td>\n",
              "      <td>30.460718</td>\n",
              "      <td>-97.792874</td>\n",
              "      <td>1,240</td>\n",
              "      <td>a month ago</td>\n",
              "      <td>My mc. Crispy chicken sandwich was ï¿½ï¿½ï¿½ï¿...</td>\n",
              "      <td>5 stars</td>\n",
              "    </tr>\n",
              "    <tr>\n",
              "      <th>4</th>\n",
              "      <td>5</td>\n",
              "      <td>McDonald's</td>\n",
              "      <td>Fast food restaurant</td>\n",
              "      <td>13749 US-183 Hwy, Austin, TX 78750, United States</td>\n",
              "      <td>30.460718</td>\n",
              "      <td>-97.792874</td>\n",
              "      <td>1,240</td>\n",
              "      <td>2 months ago</td>\n",
              "      <td>I repeat my order 3 times in the drive thru, a...</td>\n",
              "      <td>1 star</td>\n",
              "    </tr>\n",
              "  </tbody>\n",
              "</table>\n",
              "</div>"
            ],
            "text/plain": [
              "   reviewer_id  store_name              category  \\\n",
              "0            1  McDonald's  Fast food restaurant   \n",
              "1            2  McDonald's  Fast food restaurant   \n",
              "2            3  McDonald's  Fast food restaurant   \n",
              "3            4  McDonald's  Fast food restaurant   \n",
              "4            5  McDonald's  Fast food restaurant   \n",
              "\n",
              "                                       store_address  latitude   longitude  \\\n",
              "0  13749 US-183 Hwy, Austin, TX 78750, United States  30.460718 -97.792874   \n",
              "1  13749 US-183 Hwy, Austin, TX 78750, United States  30.460718 -97.792874   \n",
              "2  13749 US-183 Hwy, Austin, TX 78750, United States  30.460718 -97.792874   \n",
              "3  13749 US-183 Hwy, Austin, TX 78750, United States  30.460718 -97.792874   \n",
              "4  13749 US-183 Hwy, Austin, TX 78750, United States  30.460718 -97.792874   \n",
              "\n",
              "  rating_count   review_time  \\\n",
              "0        1,240  3 months ago   \n",
              "1        1,240    5 days ago   \n",
              "2        1,240    5 days ago   \n",
              "3        1,240   a month ago   \n",
              "4        1,240  2 months ago   \n",
              "\n",
              "                                              review   rating  \n",
              "0  Why does it look like someone spit on my food?...   1 star  \n",
              "1  It'd McDonalds. It is what it is as far as the...  4 stars  \n",
              "2  Made a mobile order got to the speaker and che...   1 star  \n",
              "3  My mc. Crispy chicken sandwich was ï¿½ï¿½ï¿½ï¿...  5 stars  \n",
              "4  I repeat my order 3 times in the drive thru, a...   1 star  "
            ]
          },
          "execution_count": 5,
          "metadata": {},
          "output_type": "execute_result"
        }
      ],
      "source": [
        "df_mc.head()"
      ]
    },
    {
      "cell_type": "code",
      "execution_count": 6,
      "metadata": {},
      "outputs": [
        {
          "data": {
            "text/html": [
              "<div>\n",
              "<style scoped>\n",
              "    .dataframe tbody tr th:only-of-type {\n",
              "        vertical-align: middle;\n",
              "    }\n",
              "\n",
              "    .dataframe tbody tr th {\n",
              "        vertical-align: top;\n",
              "    }\n",
              "\n",
              "    .dataframe thead th {\n",
              "        text-align: right;\n",
              "    }\n",
              "</style>\n",
              "<table border=\"1\" class=\"dataframe\">\n",
              "  <thead>\n",
              "    <tr style=\"text-align: right;\">\n",
              "      <th></th>\n",
              "      <th>review</th>\n",
              "      <th>sentiment</th>\n",
              "    </tr>\n",
              "  </thead>\n",
              "  <tbody>\n",
              "    <tr>\n",
              "      <th>0</th>\n",
              "      <td>One of the other reviewers has mentioned that ...</td>\n",
              "      <td>positive</td>\n",
              "    </tr>\n",
              "    <tr>\n",
              "      <th>1</th>\n",
              "      <td>A wonderful little production. &lt;br /&gt;&lt;br /&gt;The...</td>\n",
              "      <td>positive</td>\n",
              "    </tr>\n",
              "    <tr>\n",
              "      <th>2</th>\n",
              "      <td>I thought this was a wonderful way to spend ti...</td>\n",
              "      <td>positive</td>\n",
              "    </tr>\n",
              "    <tr>\n",
              "      <th>3</th>\n",
              "      <td>Basically there's a family where a little boy ...</td>\n",
              "      <td>negative</td>\n",
              "    </tr>\n",
              "    <tr>\n",
              "      <th>4</th>\n",
              "      <td>Petter Mattei's \"Love in the Time of Money\" is...</td>\n",
              "      <td>positive</td>\n",
              "    </tr>\n",
              "  </tbody>\n",
              "</table>\n",
              "</div>"
            ],
            "text/plain": [
              "                                              review sentiment\n",
              "0  One of the other reviewers has mentioned that ...  positive\n",
              "1  A wonderful little production. <br /><br />The...  positive\n",
              "2  I thought this was a wonderful way to spend ti...  positive\n",
              "3  Basically there's a family where a little boy ...  negative\n",
              "4  Petter Mattei's \"Love in the Time of Money\" is...  positive"
            ]
          },
          "execution_count": 6,
          "metadata": {},
          "output_type": "execute_result"
        }
      ],
      "source": [
        "df_imdb.head()"
      ]
    },
    {
      "cell_type": "code",
      "execution_count": 7,
      "metadata": {},
      "outputs": [],
      "source": [
        "df_mc['review'] = df_mc['review'].apply(clean_text)\n",
        "df_imdb['review'] = df_imdb['review'].apply(clean_text)"
      ]
    },
    {
      "cell_type": "code",
      "execution_count": 8,
      "metadata": {},
      "outputs": [],
      "source": [
        "df_mc = df_mc[['review', 'rating']]\n",
        "df_imdb = df_imdb[['review', 'sentiment']]"
      ]
    },
    {
      "cell_type": "code",
      "execution_count": 9,
      "metadata": {},
      "outputs": [
        {
          "data": {
            "text/html": [
              "<div>\n",
              "<style scoped>\n",
              "    .dataframe tbody tr th:only-of-type {\n",
              "        vertical-align: middle;\n",
              "    }\n",
              "\n",
              "    .dataframe tbody tr th {\n",
              "        vertical-align: top;\n",
              "    }\n",
              "\n",
              "    .dataframe thead th {\n",
              "        text-align: right;\n",
              "    }\n",
              "</style>\n",
              "<table border=\"1\" class=\"dataframe\">\n",
              "  <thead>\n",
              "    <tr style=\"text-align: right;\">\n",
              "      <th></th>\n",
              "      <th>review</th>\n",
              "      <th>rating</th>\n",
              "    </tr>\n",
              "  </thead>\n",
              "  <tbody>\n",
              "    <tr>\n",
              "      <th>0</th>\n",
              "      <td>why does it look like someone spit on my food\\...</td>\n",
              "      <td>1 star</td>\n",
              "    </tr>\n",
              "    <tr>\n",
              "      <th>1</th>\n",
              "      <td>it would mcdonalds it is what it is as far as ...</td>\n",
              "      <td>4 stars</td>\n",
              "    </tr>\n",
              "    <tr>\n",
              "      <th>2</th>\n",
              "      <td>made a mobile order got to the speaker and che...</td>\n",
              "      <td>1 star</td>\n",
              "    </tr>\n",
              "    <tr>\n",
              "      <th>3</th>\n",
              "      <td>my mc crispy chicken sandwich was  customer se...</td>\n",
              "      <td>5 stars</td>\n",
              "    </tr>\n",
              "    <tr>\n",
              "      <th>4</th>\n",
              "      <td>i repeat my order 3 times in the drive thru an...</td>\n",
              "      <td>1 star</td>\n",
              "    </tr>\n",
              "  </tbody>\n",
              "</table>\n",
              "</div>"
            ],
            "text/plain": [
              "                                              review   rating\n",
              "0  why does it look like someone spit on my food\\...   1 star\n",
              "1  it would mcdonalds it is what it is as far as ...  4 stars\n",
              "2  made a mobile order got to the speaker and che...   1 star\n",
              "3  my mc crispy chicken sandwich was  customer se...  5 stars\n",
              "4  i repeat my order 3 times in the drive thru an...   1 star"
            ]
          },
          "execution_count": 9,
          "metadata": {},
          "output_type": "execute_result"
        }
      ],
      "source": [
        "df_mc.head()"
      ]
    },
    {
      "cell_type": "code",
      "execution_count": 10,
      "metadata": {},
      "outputs": [
        {
          "data": {
            "text/html": [
              "<div>\n",
              "<style scoped>\n",
              "    .dataframe tbody tr th:only-of-type {\n",
              "        vertical-align: middle;\n",
              "    }\n",
              "\n",
              "    .dataframe tbody tr th {\n",
              "        vertical-align: top;\n",
              "    }\n",
              "\n",
              "    .dataframe thead th {\n",
              "        text-align: right;\n",
              "    }\n",
              "</style>\n",
              "<table border=\"1\" class=\"dataframe\">\n",
              "  <thead>\n",
              "    <tr style=\"text-align: right;\">\n",
              "      <th></th>\n",
              "      <th>review</th>\n",
              "      <th>sentiment</th>\n",
              "    </tr>\n",
              "  </thead>\n",
              "  <tbody>\n",
              "    <tr>\n",
              "      <th>0</th>\n",
              "      <td>one of the other reviewers has mentioned that ...</td>\n",
              "      <td>positive</td>\n",
              "    </tr>\n",
              "    <tr>\n",
              "      <th>1</th>\n",
              "      <td>a wonderful little production the filming tech...</td>\n",
              "      <td>positive</td>\n",
              "    </tr>\n",
              "    <tr>\n",
              "      <th>2</th>\n",
              "      <td>i thought this was a wonderful way to spend ti...</td>\n",
              "      <td>positive</td>\n",
              "    </tr>\n",
              "    <tr>\n",
              "      <th>3</th>\n",
              "      <td>basically there is a family where a little boy...</td>\n",
              "      <td>negative</td>\n",
              "    </tr>\n",
              "    <tr>\n",
              "      <th>4</th>\n",
              "      <td>petter matteis love in the time of money is a ...</td>\n",
              "      <td>positive</td>\n",
              "    </tr>\n",
              "  </tbody>\n",
              "</table>\n",
              "</div>"
            ],
            "text/plain": [
              "                                              review sentiment\n",
              "0  one of the other reviewers has mentioned that ...  positive\n",
              "1  a wonderful little production the filming tech...  positive\n",
              "2  i thought this was a wonderful way to spend ti...  positive\n",
              "3  basically there is a family where a little boy...  negative\n",
              "4  petter matteis love in the time of money is a ...  positive"
            ]
          },
          "execution_count": 10,
          "metadata": {},
          "output_type": "execute_result"
        }
      ],
      "source": [
        "df_imdb.head()"
      ]
    },
    {
      "cell_type": "code",
      "execution_count": 11,
      "metadata": {
        "id": "vNyP_KqMEpl9"
      },
      "outputs": [],
      "source": [
        "df_mc = df_mc[df_mc['rating'] != '3 stars']\n",
        "data_mc = df_mc['review'].to_numpy()\n",
        "data_imdb = df_imdb['review'].to_numpy()\n",
        "rating_mapping_imdb = {\n",
        "    'positive': 1,\n",
        "    'negative': 0,\n",
        "}\n",
        "\n",
        "label_imdb = df_imdb['sentiment'].map(rating_mapping_imdb).to_numpy()\n",
        "rating_mapping_mc = {\n",
        "    '1 star': 0,\n",
        "    '2 stars': 0,\n",
        "    '4 stars': 1,\n",
        "    '5 stars': 1\n",
        "}\n",
        "\n",
        "label_mc = df_mc['rating'].map(rating_mapping_mc).to_numpy()\n",
        "data = np.append(data_imdb, data_mc)\n",
        "label = np.append(label_imdb,label_mc)\n",
        "\n",
        "train_data, test_data, train_label, test_label = train_test_split(data, label, test_size=0.2, random_state=42)"
      ]
    },
    {
      "attachments": {},
      "cell_type": "markdown",
      "metadata": {},
      "source": [
        "## Word-Embeddings\n",
        "Wir nutzen das gleiche Encoding für den Transformer wie schon im LSTM."
      ]
    },
    {
      "cell_type": "code",
      "execution_count": 12,
      "metadata": {
        "id": "oF4SJF4GEpl9"
      },
      "outputs": [],
      "source": [
        "max_length = 600\n",
        "max_tokens = 20000\n",
        "text_vectorization = layers.TextVectorization(\n",
        "    max_tokens=max_tokens,\n",
        "    output_mode=\"int\",\n",
        "    output_sequence_length=max_length,\n",
        "    standardize=None,\n",
        ")\n",
        "text_vectorization.adapt(train_data)\n",
        "text_vectorization.adapt(test_data)\n",
        "\n",
        "int_train_ds = text_vectorization(train_data)\n",
        "\n",
        "int_test_ds = text_vectorization(test_data)"
      ]
    },
    {
      "attachments": {},
      "cell_type": "markdown",
      "metadata": {},
      "source": [
        "## Transformer-Encoder \n",
        "Self Attention:\n",
        "\n",
        "Bei Self-Attention geht es darum, eine Beziehung zwischen verschiedenen Tokens innerhalb einer Sequenz herzustellen, um die wichtigsten Informationen zu identifizieren und zu betonen. \n",
        "\n",
        "Der Prozess der Self-Attention besteht aus drei grundlegenden Schritten:\n",
        "\n",
        "1. Berechnung von Schlüssel-, Wert- und Abfragevektoren: Jedes Token in der Eingabesequenz wird in drei Vektoren transformiert - Schlüssel (Key), Wert (Value) und Abfrage (Query). \n",
        "\n",
        "\n",
        "2. Berechnung der Aufmerksamkeitsgewichte: Für jedes Token in der Sequenz werden Aufmerksamkeitsgewichte berechnet, um seine Beziehung zu anderen Tokens zu bestimmen. Dies geschieht, indem das Skalarprodukt zwischen dem Abfragevektor des aktuellen Tokens und den Schlüsselvektoren aller anderen Tokens berechnet wird. Durch die Anwendung einer Softmax-Funktion auf diese Skalarprodukte werden die Aufmerksamkeitsgewichte normalisiert.\n",
        "> output = sum(values x pairwise-scores(query, keys))\n",
        "\n",
        "3. Aggregation der Wertvektoren: Die Aufmerksamkeitsgewichte werden verwendet, um gewichtete Summen der Wertvektoren zu berechnen. Dies ermöglicht die Gewichtung der relevanten Informationen jedes Tokens entsprechend den Aufmerksamkeitsgewichten. Das Ergebnis ist der aggregierte Ausgabevektor für das aktuelle Token.\n",
        "\n",
        "## Was sind die Query, Keys and Values in unserem Model?\n",
        "In unserem Sequence-to-Sequence-Modell sind die Query, Keys und Values alles die gleichen inputs. Sie repräsentieren die Sequenz selbst, die mit sich selbst verglichen wird, um jedes Token mit Kontextinformationen aus der gesamten Sequenz anzureichern. In diesem Fall werden die Query-, Keys- und Values-Vektoren verwendet, um den Self-Attention-Mechanismus anzuwenden und wichtige Beziehungen und Zusammenhänge innerhalb der Sequenz zu erfassen."
      ]
    },
    {
      "attachments": {},
      "cell_type": "markdown",
      "metadata": {},
      "source": [
        "<img src=\"assets/ScaledDotProduct.jpeg\" alt=\"Multi Head Attention\" width=\"200\"/>ee\n"
      ]
    },
    {
      "attachments": {},
      "cell_type": "markdown",
      "metadata": {},
      "source": [
        "## Multi-Head Attention \n",
        "Der \"Multi-head attention\" Layer wurde in dem Paper \"Attention is all you need\" eingeführt. Der Begriff \"multi-head\" bezieht sich darauf, dass der Self-Attention Layer in eine Reihe unabhängiger Teilräume aufgeteilt wird. Diese lernen unabhängig voneinander. \n",
        "\n",
        "Die Query, Key und Value Vektoren werden durch drei separate Layern von dichten Projektionen geschickt, was zu drei separaten Vektoren führt. Jeder Vektor wird mit Hilfe von Self Attention verarbeitet, und die drei Ausgaben werden wieder zu einem einzelnen Output zusammengefügt. Jeder solche Teilraum wird als \"head\" bezeichnet.\n",
        "\n",
        "Die dense Layers ermöglichen es der Gesamtschicht wirklich etwas zu lernen, ansonsten würde es sich nur um eine zustandslose Transformation handeln. Darüber hinaus hilft die Verwendung unabhängiger Heads der Schicht dabei, verschiedene Gruppen von Merkmalen für jedes Token zu lernen, wobei die Merkmale innerhalb einer Gruppe miteinander korreliert sind, aber größtenteils unabhängig von Merkmalen in einer anderen Gruppe sind.\n",
        "\n"
      ]
    },
    {
      "attachments": {},
      "cell_type": "markdown",
      "metadata": {},
      "source": [
        "<img src=\"assets/MultiHead.png\" alt=\"Multi Head Attention\" width=\"500\"/>\n"
      ]
    },
    {
      "attachments": {},
      "cell_type": "markdown",
      "metadata": {},
      "source": [
        "## Transformer-Encoder \n",
        "Ein Transformer besteht aus einem Encoder und einem Decoder. Für unsere Sentiment-Analyse verwenden wir nur den Encoder, da wir keine neuen Sequenzen generieren müssen. Der Kern des Encoders ist der Multi-Head-Attention-Layer, der gerade erläutert wurde. Zusätzlich enthält der Encoder zusätzliche Dense-Layer, um weitere Beziehungen zwischen den Tokens zu erfassen. Residualverbindungen werden verwendet, um sicherzustellen, dass die Dense-Layer keine Informationen zerstören, und Normalisierungsschichten tragen dazu bei, die Daten auf zum Beispiel einen bestimmten Mittelwert zu normalisieren, was das Training stabiler und schneller macht."
      ]
    },
    {
      "attachments": {},
      "cell_type": "markdown",
      "metadata": {},
      "source": [
        "<img src=\"assets/TransformerEncoder.png\" alt=\"Transformer Encoder\" width=\"300\"/>\n"
      ]
    },
    {
      "cell_type": "code",
      "execution_count": 13,
      "metadata": {
        "id": "KU3vFJILEpl-"
      },
      "outputs": [],
      "source": [
        "class TransformerEncoder(layers.Layer):\n",
        "    def __init__(self, embed_dim, dense_dim, num_heads, **kwargs):\n",
        "        super().__init__(**kwargs)\n",
        "        self.embed_dim = embed_dim\n",
        "        self.dense_dim = dense_dim\n",
        "        self.num_heads = num_heads\n",
        "        self.attention = layers.MultiHeadAttention(\n",
        "            num_heads=num_heads, key_dim=embed_dim)\n",
        "        self.dense_proj = keras.Sequential(\n",
        "            [layers.Dense(dense_dim, activation=\"relu\"),\n",
        "             layers.Dense(embed_dim),]\n",
        "        )\n",
        "        self.layernorm_1 = layers.LayerNormalization()\n",
        "        self.layernorm_2 = layers.LayerNormalization()\n",
        "\n",
        "    def call(self, inputs, mask=None):\n",
        "        if mask is not None:\n",
        "            mask = mask[:, tf.newaxis, :]\n",
        "        attention_output = self.attention(\n",
        "            inputs, inputs, attention_mask=mask)\n",
        "        proj_input = self.layernorm_1(inputs + attention_output)\n",
        "        proj_output = self.dense_proj(proj_input)\n",
        "        return self.layernorm_2(proj_input + proj_output)\n",
        "\n",
        "    def get_config(self):\n",
        "        config = super().get_config()\n",
        "        config.update({\n",
        "            \"embed_dim\": self.embed_dim,\n",
        "            \"num_heads\": self.num_heads,\n",
        "            \"dense_dim\": self.dense_dim,\n",
        "        })\n",
        "        return config"
      ]
    },
    {
      "attachments": {},
      "cell_type": "markdown",
      "metadata": {},
      "source": [
        "## Self Attention Model mit Wordembedding\n"
      ]
    },
    {
      "cell_type": "code",
      "execution_count": 14,
      "metadata": {},
      "outputs": [],
      "source": [
        "# Hyperparameter\n",
        "vocab_size = 20000\n",
        "sequence_length = 600\n",
        "embed_dim = 256\n",
        "num_heads = 2\n",
        "dense_dim = 32\n"
      ]
    },
    {
      "cell_type": "code",
      "execution_count": 15,
      "metadata": {
        "colab": {
          "base_uri": "https://localhost:8080/"
        },
        "id": "b4e_zU-1Epl_",
        "outputId": "1e0f57d7-1073-4de0-e988-11c8ff5852b4"
      },
      "outputs": [
        {
          "name": "stdout",
          "output_type": "stream",
          "text": [
            "Model: \"model\"\n",
            "_________________________________________________________________\n",
            " Layer (type)                Output Shape              Param #   \n",
            "=================================================================\n",
            " input_1 (InputLayer)        [(None, None)]            0         \n",
            "                                                                 \n",
            " embedding (Embedding)       (None, None, 256)         5120000   \n",
            "                                                                 \n",
            " transformer_encoder (Transf  (None, None, 256)        543776    \n",
            " ormerEncoder)                                                   \n",
            "                                                                 \n",
            " global_max_pooling1d (Globa  (None, 256)              0         \n",
            " lMaxPooling1D)                                                  \n",
            "                                                                 \n",
            " dropout (Dropout)           (None, 256)               0         \n",
            "                                                                 \n",
            " dense_2 (Dense)             (None, 1)                 257       \n",
            "                                                                 \n",
            "=================================================================\n",
            "Total params: 5,664,033\n",
            "Trainable params: 5,664,033\n",
            "Non-trainable params: 0\n",
            "_________________________________________________________________\n"
          ]
        }
      ],
      "source": [
        "def getTransformerEncoderModel():\n",
        "    inputs = keras.Input(shape=(None,), dtype=\"int64\")\n",
        "    x = layers.Embedding(vocab_size, embed_dim)(inputs)\n",
        "    x = TransformerEncoder(embed_dim, dense_dim, num_heads)(x)\n",
        "    x = layers.GlobalMaxPooling1D()(x)\n",
        "    x = layers.Dropout(0.5)(x)\n",
        "    outputs = layers.Dense(1, activation=\"sigmoid\")(x)\n",
        "    model = keras.Model(inputs, outputs)\n",
        "    model.compile(optimizer=\"rmsprop\",\n",
        "              loss=\"binary_crossentropy\",\n",
        "              metrics=[\"accuracy\"])\n",
        "    return model\n",
        "\n",
        "encoderModel = getTransformerEncoderModel()\n",
        "encoderModel.summary()"
      ]
    },
    {
      "attachments": {},
      "cell_type": "markdown",
      "metadata": {},
      "source": [
        "Der Großteil der Komplexität dieses Modells liegt im Transformer Encoder. Wir müssen lediglich die Rückgabewerte des Encoders umwandeln, da er nur vollständige Sequenzen zurückgibt. Wir benötigen jedoch einzelne Vektoren, um die Daten zu klassifizieren. Daher nutzen wir einen GlobalMaxPooling1D Layer, um die Daten zu reduzieren."
      ]
    },
    {
      "cell_type": "code",
      "execution_count": 16,
      "metadata": {},
      "outputs": [],
      "source": [
        "callbacks = [\n",
        "  keras.callbacks.EarlyStopping(\n",
        "        monitor=\"val_loss\",  # Metric to monitor\n",
        "        patience=3,  # Number of epochs with no improvement after which training will be stopped\n",
        "        restore_best_weights=True,  # Restore the weights of the best epoch\n",
        "    )\n",
        "]"
      ]
    },
    {
      "cell_type": "code",
      "execution_count": 17,
      "metadata": {
        "colab": {
          "base_uri": "https://localhost:8080/"
        },
        "id": "-OyL4F6JEpl_",
        "outputId": "0848c4f7-584f-47b6-ed74-28e06b2b82d1"
      },
      "outputs": [
        {
          "name": "stdout",
          "output_type": "stream",
          "text": [
            "Epoch 1/20\n",
            "1572/1572 [==============================] - 78s 48ms/step - loss: 0.4047 - accuracy: 0.8155 - val_loss: 0.3169 - val_accuracy: 0.8611\n",
            "Epoch 2/20\n",
            "1572/1572 [==============================] - 41s 26ms/step - loss: 0.3142 - accuracy: 0.8649 - val_loss: 0.2939 - val_accuracy: 0.8739\n",
            "Epoch 3/20\n",
            "1572/1572 [==============================] - 35s 22ms/step - loss: 0.2869 - accuracy: 0.8784 - val_loss: 0.2850 - val_accuracy: 0.8798\n",
            "Epoch 4/20\n",
            "1572/1572 [==============================] - 34s 21ms/step - loss: 0.2654 - accuracy: 0.8901 - val_loss: 0.2716 - val_accuracy: 0.8900\n",
            "Epoch 5/20\n",
            "1572/1572 [==============================] - 33s 21ms/step - loss: 0.2496 - accuracy: 0.8990 - val_loss: 0.2710 - val_accuracy: 0.8869\n",
            "Epoch 6/20\n",
            "1572/1572 [==============================] - 32s 21ms/step - loss: 0.2328 - accuracy: 0.9067 - val_loss: 0.3186 - val_accuracy: 0.8676\n",
            "Epoch 7/20\n",
            "1572/1572 [==============================] - 32s 21ms/step - loss: 0.2141 - accuracy: 0.9147 - val_loss: 0.2632 - val_accuracy: 0.8948\n",
            "Epoch 8/20\n",
            "1572/1572 [==============================] - 32s 21ms/step - loss: 0.2011 - accuracy: 0.9216 - val_loss: 0.2657 - val_accuracy: 0.8923\n",
            "Epoch 9/20\n",
            "1572/1572 [==============================] - 32s 20ms/step - loss: 0.1865 - accuracy: 0.9278 - val_loss: 0.2699 - val_accuracy: 0.8933\n",
            "Epoch 10/20\n",
            "1572/1572 [==============================] - 32s 20ms/step - loss: 0.1739 - accuracy: 0.9331 - val_loss: 0.2724 - val_accuracy: 0.8920\n"
          ]
        }
      ],
      "source": [
        "history_enc_model = encoderModel.fit(int_train_ds, train_label, validation_split=0.2, epochs=20, callbacks=callbacks, verbose=1)"
      ]
    },
    {
      "cell_type": "code",
      "execution_count": 18,
      "metadata": {
        "colab": {
          "base_uri": "https://localhost:8080/"
        },
        "id": "dKebkDGNFe3b",
        "outputId": "0aa86a88-b7f2-4a04-a802-a5f9fcc6769c"
      },
      "outputs": [
        {
          "name": "stdout",
          "output_type": "stream",
          "text": [
            "492/492 [==============================] - 4s 8ms/step - loss: 0.2572 - accuracy: 0.8932\n"
          ]
        },
        {
          "data": {
            "text/plain": [
              "[0.25721436738967896, 0.8932298421859741]"
            ]
          },
          "execution_count": 18,
          "metadata": {},
          "output_type": "execute_result"
        }
      ],
      "source": [
        "encoderModel.evaluate(int_test_ds, test_label)"
      ]
    },
    {
      "cell_type": "code",
      "execution_count": 19,
      "metadata": {},
      "outputs": [
        {
          "data": {
            "image/png": "[encoded data removed]",
            "text/plain": [
              "<Figure size 640x480 with 1 Axes>"
            ]
          },
          "metadata": {},
          "output_type": "display_data"
        },
        {
          "data": {
            "image/png": "[encoded data removed]",
            "text/plain": [
              "<Figure size 640x480 with 1 Axes>"
            ]
          },
          "metadata": {},
          "output_type": "display_data"
        }
      ],
      "source": [
        "plot_history_metrics(history_enc_model, ['loss', 'accuracy'])"
      ]
    },
    {
      "attachments": {},
      "cell_type": "markdown",
      "metadata": {},
      "source": [
        "## Hinzufügen von PositionalEmbedding\n",
        "Die Ergebnisse mit unserem Transformer-Layer sind bereits vielversprechend. Allerdings nutzen wir bisher nur einen der beiden wesentlichen Bestandteile, die den Transformer so leistungsstark machen: den Self Attention Mechanismus. Bisher hatte unser Modell keine Kenntnis über die Reihenfolge der Wörter, obwohl diese einen großen Unterschied in der Bedeutung des Satzes ausmachen können. Um dies zu verbessern, werden wir das Positional Embedding hinzufügen, um die Reihenfolge der Wörter zu berücksichtigen und so die Leistung unseres Modells weiter zu steigern.\n",
        "\n",
        "Der aktuelle Transformer würde diese beiden Sätze identisch bewerten:\n",
        "\n",
        "> \"Eventough I did _**not**_ like the new mayo formula I was satisfied\"\n",
        "\n",
        "> \"Eventough I did like the new mayo formula I was _**not**_ satisfied\"\n",
        "\n",
        "Ein Ansatz zur Integration von positionellen Daten besteht darin, die Daten sequenziell zu verarbeiten. Dieser Ansatz wird auch von LSTMs verwendet, um positionelle Daten in ihre Modelle einzufügen. Es ist jedoch wichtig zu beachten, dass dieser sequenzielle Ansatz keine parallele Verarbeitung ermöglicht. \n",
        "\n",
        "Im Paper \"Attention is all you need\" wird das Problem der Positionsdaten durch die Anreicherung des Word Embedding Vektors mit positionellen Informationen gelöst. Dieser Ansatz besteht darin, Sinus- und Kosinuswellenfrequenzen zu verwenden, um die Positionsdaten zu kodieren.\n",
        "\n",
        "Anstatt separate Positional Embeddings zu verwenden oder die Daten sequenziell zu verarbeiten, fügt das Paper die Positionsdaten direkt in den Word Embedding Vektor ein. Hierzu werden Sinus- und Kosinusfunktionen mit unterschiedlichen Frequenzen verwendet, um die Positionsinformationen zu kodieren. Diese Sinus- und Kosinuswerte werden dann mit den Word Embedding Vektoren addiert.\n",
        "\n",
        "Durch die Verwendung von Sinus- und Kosinusfrequenzen in den Word Embedding Vektoren kann der Transformer-Modellarchitektur die Positionsinformationen der Wörter erfassen, ohne dass eine sequenzielle Verarbeitung oder separate Positional Embeddings erforderlich sind.\n",
        "\n",
        "\n",
        "Im Bild und der Grafik unter diesem Text wird dies systematisch erklärt. Als Beispiel nehmen wir den Satz:\n",
        "\n",
        " > Die Prüfung war schwer\n",
        " \n",
        "  als unseren Input.\n",
        "\n",
        "Schauen wir uns das Wort \"Prüfung\" genauer an. Zuerst wird ihm ein Index aus dem Wörterbuch zugewiesen. Anschließend wird ein Word Embedding Vektor generiert. In diesem Beispiel werden nur 5 Dimensionen genutzt, während es in der Realität oft deutlich mehr sind. Im Paper \"Attention is all you need\" werden beispielsweise 512 Dimensionen verwendet. Für das Positional Embedding wird ein Vektor mit derselben Größe generiert wie für das Word Embedding.\n",
        "\n",
        "Die Daten in diesem Vektor werden mithilfe der Wortposition (2), der Anzahl der Dimensionen (5) und des Index (0-4) ermittelt. Durch die Indexierung kann das Embedding über verschiedene Frequenzen hinweg die Wortposition vergleichen. Wie in der Grafik zu sehen ist, können zwei Wörter eine ähnliche Frequenz haben, wie zum Beispiel P0 und P2 bei i = 4.\n",
        "\n",
        "Wenn das Modell nur i = 4 verwenden würde, um die Position zu ermitteln, hätte es Schwierigkeiten, die richtige Wortreihenfolge aus den Daten abzuleiten. Glücklicherweise besitzt es jedoch noch weitere Dimensionen, wie z.B. i = 2. In der Grafik können wir sehen, dass sich die Frequenz von P0 und P2 bei i = 2 deutlich unterscheiden.\n"
      ]
    },
    {
      "attachments": {},
      "cell_type": "markdown",
      "metadata": {},
      "source": [
        "<img src=\"assets/PositonalEmbedding.jpeg\" alt=\"PositionalEncoding\" width=\"1000\"/>\n"
      ]
    },
    {
      "attachments": {},
      "cell_type": "markdown",
      "metadata": {},
      "source": [
        "<img src=\"assets/Frequenzen.png\" alt=\"PositionalEncoding\" width=\"500\"/>\n"
      ]
    },
    {
      "cell_type": "code",
      "execution_count": 20,
      "metadata": {},
      "outputs": [],
      "source": [
        "class PositionEmbeddingSinCos(layers.Layer):\n",
        "    def __init__(self, sequence_length, vocab_size, output_dim, **kwargs):\n",
        "        super(PositionEmbeddingSinCos, self).__init__(**kwargs)\n",
        "        position_embedding_matrix = self.get_position_encoding(sequence_length, output_dim)                                          \n",
        "        self.token_embeddings = layers.Embedding(\n",
        "            input_dim=vocab_size, output_dim=output_dim)\n",
        "        self.position_embedding_layer = layers.Embedding(\n",
        "            input_dim=sequence_length, output_dim=output_dim,\n",
        "            weights=[position_embedding_matrix]            )\n",
        "             \n",
        "    def get_position_encoding(self, seq_len, d, n=10000):\n",
        "        P = np.zeros((seq_len, d))\n",
        "        for k in range(seq_len):\n",
        "            for i in np.arange(int(d/2)):\n",
        "                denominator = np.power(n, 2*i/d)\n",
        "                P[k, 2*i] = np.sin(k/denominator)\n",
        "                P[k, 2*i+1] = np.cos(k/denominator)\n",
        "        return P\n",
        " \n",
        "    def compute_mask(self, inputs, mask=None):\n",
        "        return tf.math.not_equal(inputs, 0)\n",
        "\n",
        "    def get_config(self):\n",
        "        config = super().get_config()\n",
        "        config.update({\n",
        "            \"output_dim\": self.output_dim,\n",
        "            \"sequence_length\": self.sequence_length,\n",
        "            \"input_dim\": self.input_dim,\n",
        "        })\n",
        "        return config\n",
        "\n",
        " \n",
        "    def call(self, inputs):        \n",
        "        position_indices = tf.range(tf.shape(inputs)[-1])\n",
        "        embedded_tokens = self.token_embeddings(inputs)\n",
        "        embedded_indices = self.position_embedding_layer(position_indices)\n",
        "        return embedded_tokens + embedded_indices"
      ]
    },
    {
      "cell_type": "code",
      "execution_count": 21,
      "metadata": {},
      "outputs": [
        {
          "name": "stdout",
          "output_type": "stream",
          "text": [
            "Model: \"model_1\"\n",
            "_________________________________________________________________\n",
            " Layer (type)                Output Shape              Param #   \n",
            "=================================================================\n",
            " input_2 (InputLayer)        [(None, None)]            0         \n",
            "                                                                 \n",
            " position_embedding_sin_cos   (None, None, 256)        5273600   \n",
            " (PositionEmbeddingSinCos)                                       \n",
            "                                                                 \n",
            " transformer_encoder_1 (Tran  (None, None, 256)        543776    \n",
            " sformerEncoder)                                                 \n",
            "                                                                 \n",
            " global_max_pooling1d_1 (Glo  (None, 256)              0         \n",
            " balMaxPooling1D)                                                \n",
            "                                                                 \n",
            " dropout_1 (Dropout)         (None, 256)               0         \n",
            "                                                                 \n",
            " dense_5 (Dense)             (None, 1)                 257       \n",
            "                                                                 \n",
            "=================================================================\n",
            "Total params: 5,817,633\n",
            "Trainable params: 5,817,633\n",
            "Non-trainable params: 0\n",
            "_________________________________________________________________\n"
          ]
        }
      ],
      "source": [
        "def getPositonalEmbeddingModel():\n",
        "    inputs = keras.Input(shape=(None,), dtype=\"int64\")\n",
        "    x = PositionEmbeddingSinCos(sequence_length,vocab_size,embed_dim)(inputs)\n",
        "    x = TransformerEncoder(embed_dim, dense_dim, num_heads)(x)\n",
        "    x = layers.GlobalMaxPooling1D()(x)\n",
        "    x = layers.Dropout(0.5)(x)\n",
        "    outputs = layers.Dense(1, activation=\"sigmoid\")(x)\n",
        "    model = keras.Model(inputs, outputs)\n",
        "    model.compile(optimizer=\"rmsprop\",\n",
        "              loss=\"binary_crossentropy\",\n",
        "              metrics=[\"accuracy\"])\n",
        "    return model\n",
        "positonalModel = getPositonalEmbeddingModel()\n",
        "positonalModel.summary()"
      ]
    },
    {
      "cell_type": "code",
      "execution_count": 22,
      "metadata": {},
      "outputs": [
        {
          "name": "stdout",
          "output_type": "stream",
          "text": [
            "Epoch 1/20\n",
            "1572/1572 [==============================] - 66s 41ms/step - loss: 0.6648 - accuracy: 0.5659 - val_loss: 0.6195 - val_accuracy: 0.6127\n",
            "Epoch 2/20\n",
            "1572/1572 [==============================] - 42s 27ms/step - loss: 0.5484 - accuracy: 0.6889 - val_loss: 0.4826 - val_accuracy: 0.7700\n",
            "Epoch 3/20\n",
            "1572/1572 [==============================] - 36s 23ms/step - loss: 0.4454 - accuracy: 0.7874 - val_loss: 0.4170 - val_accuracy: 0.8063\n",
            "Epoch 4/20\n",
            "1572/1572 [==============================] - 35s 22ms/step - loss: 0.4023 - accuracy: 0.8176 - val_loss: 0.4056 - val_accuracy: 0.8147\n",
            "Epoch 5/20\n",
            "1572/1572 [==============================] - 34s 22ms/step - loss: 0.3812 - accuracy: 0.8282 - val_loss: 0.4026 - val_accuracy: 0.8230\n",
            "Epoch 6/20\n",
            "1572/1572 [==============================] - 35s 22ms/step - loss: 0.3704 - accuracy: 0.8354 - val_loss: 0.4147 - val_accuracy: 0.8108\n",
            "Epoch 7/20\n",
            "1572/1572 [==============================] - 34s 22ms/step - loss: 0.3560 - accuracy: 0.8434 - val_loss: 0.3925 - val_accuracy: 0.8260\n",
            "Epoch 8/20\n",
            "1572/1572 [==============================] - 36s 23ms/step - loss: 0.3462 - accuracy: 0.8485 - val_loss: 0.3801 - val_accuracy: 0.8294\n",
            "Epoch 9/20\n",
            "1572/1572 [==============================] - 34s 22ms/step - loss: 0.3340 - accuracy: 0.8545 - val_loss: 0.3714 - val_accuracy: 0.8352\n",
            "Epoch 10/20\n",
            "1572/1572 [==============================] - 34s 22ms/step - loss: 0.3233 - accuracy: 0.8618 - val_loss: 0.3761 - val_accuracy: 0.8369\n",
            "Epoch 11/20\n",
            "1572/1572 [==============================] - 34s 22ms/step - loss: 0.3161 - accuracy: 0.8659 - val_loss: 0.3644 - val_accuracy: 0.8394\n",
            "Epoch 12/20\n",
            "1572/1572 [==============================] - 34s 22ms/step - loss: 0.3067 - accuracy: 0.8698 - val_loss: 0.3926 - val_accuracy: 0.8226\n",
            "Epoch 13/20\n",
            "1572/1572 [==============================] - 34s 22ms/step - loss: 0.2971 - accuracy: 0.8743 - val_loss: 0.3469 - val_accuracy: 0.8478\n",
            "Epoch 14/20\n",
            "1572/1572 [==============================] - 35s 22ms/step - loss: 0.2881 - accuracy: 0.8794 - val_loss: 0.3423 - val_accuracy: 0.8498\n",
            "Epoch 15/20\n",
            "1572/1572 [==============================] - 35s 22ms/step - loss: 0.2754 - accuracy: 0.8860 - val_loss: 0.3377 - val_accuracy: 0.8529\n",
            "Epoch 16/20\n",
            "1572/1572 [==============================] - 36s 23ms/step - loss: 0.2692 - accuracy: 0.8894 - val_loss: 0.3511 - val_accuracy: 0.8513\n",
            "Epoch 17/20\n",
            "1572/1572 [==============================] - 35s 22ms/step - loss: 0.2685 - accuracy: 0.8897 - val_loss: 0.3418 - val_accuracy: 0.8517\n",
            "Epoch 18/20\n",
            "1572/1572 [==============================] - 35s 22ms/step - loss: 0.2631 - accuracy: 0.8918 - val_loss: 0.3372 - val_accuracy: 0.8558\n",
            "Epoch 19/20\n",
            "1572/1572 [==============================] - 34s 22ms/step - loss: 0.2548 - accuracy: 0.8947 - val_loss: 0.3589 - val_accuracy: 0.8522\n",
            "Epoch 20/20\n",
            "1572/1572 [==============================] - 34s 22ms/step - loss: 0.2526 - accuracy: 0.8963 - val_loss: 0.3531 - val_accuracy: 0.8558\n"
          ]
        }
      ],
      "source": [
        "history_with_pos_enc = positonalModel.fit(int_train_ds,train_label, validation_split=0.2, epochs=20, callbacks=callbacks, verbose=1)"
      ]
    },
    {
      "cell_type": "code",
      "execution_count": 23,
      "metadata": {},
      "outputs": [
        {
          "name": "stdout",
          "output_type": "stream",
          "text": [
            "492/492 [==============================] - 5s 10ms/step - loss: 0.3461 - accuracy: 0.8599\n"
          ]
        },
        {
          "data": {
            "text/plain": [
              "[0.3461417853832245, 0.8598880171775818]"
            ]
          },
          "execution_count": 23,
          "metadata": {},
          "output_type": "execute_result"
        }
      ],
      "source": [
        "positonalModel.evaluate(int_test_ds, test_label)"
      ]
    },
    {
      "cell_type": "code",
      "execution_count": 24,
      "metadata": {},
      "outputs": [
        {
          "data": {
            "image/png": "[encoded data removed]",
            "text/plain": [
              "<Figure size 640x480 with 1 Axes>"
            ]
          },
          "metadata": {},
          "output_type": "display_data"
        },
        {
          "data": {
            "image/png": "[encoded data removed]",
            "text/plain": [
              "<Figure size 640x480 with 1 Axes>"
            ]
          },
          "metadata": {},
          "output_type": "display_data"
        }
      ],
      "source": [
        "plot_history_metrics(history_with_pos_enc, ['loss', 'accuracy'])"
      ]
    },
    {
      "attachments": {},
      "cell_type": "markdown",
      "metadata": {},
      "source": [
        "## Simpleres Positional Encoding\n",
        "Bevor wir das Positional Embedding nach der \"Attention is all you need\"-Methode implementiert haben, haben wir ein einfacheres Positional Embedding verwendet. Dabei haben wir den Wordindex direkt als Positional Embedding Vektor erstellt und mit dem Word Embedding Vektor addiert. Überraschenderweise erzielte dieser einfache Ansatz die beste Performance unter allen drei Transformer-Modellen. Obwohl wir keine konkrete Erklärung dafür haben, könnten möglicherweise die Hyperparameter besser zu diesem Ansatz passen oder die Größe des Vokabulars (vocab_size) von 600 hier eine Rolle spielen. Wir wären gespannt auf ihre Meinung zu dieser Auswirkung!"
      ]
    },
    {
      "cell_type": "code",
      "execution_count": 25,
      "metadata": {},
      "outputs": [],
      "source": [
        "class PositionalEmbedding(layers.Layer):\n",
        "    def __init__(self, sequence_length, input_dim, output_dim, **kwargs):\n",
        "        super().__init__(**kwargs)\n",
        "        self.token_embeddings = layers.Embedding(\n",
        "            input_dim=input_dim, output_dim=output_dim)\n",
        "        self.position_embeddings = layers.Embedding(\n",
        "            input_dim=sequence_length, output_dim=output_dim)\n",
        "        self.sequence_length = sequence_length\n",
        "        self.input_dim = input_dim\n",
        "        self.output_dim = output_dim\n",
        "\n",
        "    def call(self, inputs):\n",
        "        length = tf.shape(inputs)[-1]\n",
        "        positions = tf.range(start=0, limit=length, delta=1)\n",
        "        embedded_tokens = self.token_embeddings(inputs)\n",
        "        embedded_positions = self.position_embeddings(positions)\n",
        "        return embedded_tokens + embedded_positions\n",
        "\n",
        "    def compute_mask(self, inputs, mask=None):\n",
        "        return tf.math.not_equal(inputs, 0)\n",
        "\n",
        "    def get_config(self):\n",
        "        config = super().get_config()\n",
        "        config.update({\n",
        "            \"output_dim\": self.output_dim,\n",
        "            \"sequence_length\": self.sequence_length,\n",
        "            \"input_dim\": self.input_dim,\n",
        "        })\n",
        "        return config"
      ]
    },
    {
      "cell_type": "code",
      "execution_count": 26,
      "metadata": {
        "colab": {
          "base_uri": "https://localhost:8080/"
        },
        "id": "g3CIiHtuOATW",
        "outputId": "2308ca41-acb2-4dc3-960c-feaf9f76f66b"
      },
      "outputs": [
        {
          "name": "stdout",
          "output_type": "stream",
          "text": [
            "Model: \"model_2\"\n",
            "_________________________________________________________________\n",
            " Layer (type)                Output Shape              Param #   \n",
            "=================================================================\n",
            " input_3 (InputLayer)        [(None, None)]            0         \n",
            "                                                                 \n",
            " positional_embedding (Posit  (None, None, 256)        5273600   \n",
            " ionalEmbedding)                                                 \n",
            "                                                                 \n",
            " transformer_encoder_2 (Tran  (None, None, 256)        543776    \n",
            " sformerEncoder)                                                 \n",
            "                                                                 \n",
            " global_max_pooling1d_2 (Glo  (None, 256)              0         \n",
            " balMaxPooling1D)                                                \n",
            "                                                                 \n",
            " dropout_2 (Dropout)         (None, 256)               0         \n",
            "                                                                 \n",
            " dense_8 (Dense)             (None, 1)                 257       \n",
            "                                                                 \n",
            "=================================================================\n",
            "Total params: 5,817,633\n",
            "Trainable params: 5,817,633\n",
            "Non-trainable params: 0\n",
            "_________________________________________________________________\n"
          ]
        }
      ],
      "source": [
        "def getSimplePosModel():\n",
        "    inputs = keras.Input(shape=(None,), dtype=\"int64\")\n",
        "    x = PositionalEmbedding(sequence_length,vocab_size,embed_dim)(inputs)\n",
        "    x = TransformerEncoder(embed_dim, dense_dim, num_heads)(x)\n",
        "    x = layers.GlobalMaxPooling1D()(x)\n",
        "    x = layers.Dropout(0.5)(x)\n",
        "    outputs = layers.Dense(1, activation=\"sigmoid\")(x)\n",
        "    model = keras.Model(inputs, outputs)\n",
        "    model.compile(optimizer=\"rmsprop\",\n",
        "              loss=\"binary_crossentropy\",\n",
        "              metrics=[\"accuracy\"])\n",
        "    return model\n",
        "simplePosModel = getSimplePosModel() \n",
        "simplePosModel.summary()"
      ]
    },
    {
      "cell_type": "code",
      "execution_count": 27,
      "metadata": {
        "colab": {
          "base_uri": "https://localhost:8080/"
        },
        "id": "YfhJQJzzOW9v",
        "outputId": "adb5ef82-879d-4a44-df77-83f2a8f30626"
      },
      "outputs": [
        {
          "name": "stdout",
          "output_type": "stream",
          "text": [
            "Epoch 1/20\n",
            "1572/1572 [==============================] - 66s 41ms/step - loss: 0.3883 - accuracy: 0.8213 - val_loss: 0.2917 - val_accuracy: 0.8820\n",
            "Epoch 2/20\n",
            "1572/1572 [==============================] - 41s 26ms/step - loss: 0.2679 - accuracy: 0.8891 - val_loss: 0.2700 - val_accuracy: 0.8862\n",
            "Epoch 3/20\n",
            "1572/1572 [==============================] - 38s 24ms/step - loss: 0.2353 - accuracy: 0.9048 - val_loss: 0.2556 - val_accuracy: 0.8954\n",
            "Epoch 4/20\n",
            "1572/1572 [==============================] - 37s 23ms/step - loss: 0.2144 - accuracy: 0.9153 - val_loss: 0.2599 - val_accuracy: 0.8960\n",
            "Epoch 5/20\n",
            "1572/1572 [==============================] - 36s 23ms/step - loss: 0.1964 - accuracy: 0.9243 - val_loss: 0.2883 - val_accuracy: 0.8937\n",
            "Epoch 6/20\n",
            "1572/1572 [==============================] - 36s 23ms/step - loss: 0.1775 - accuracy: 0.9328 - val_loss: 0.2938 - val_accuracy: 0.8964\n"
          ]
        }
      ],
      "source": [
        "history_simple_pos_enc = simplePosModel.fit(int_train_ds,train_label, validation_split=0.2, epochs=20, callbacks=callbacks, verbose=1)"
      ]
    },
    {
      "cell_type": "code",
      "execution_count": 28,
      "metadata": {
        "colab": {
          "base_uri": "https://localhost:8080/"
        },
        "id": "3V3m5sV_OCQd",
        "outputId": "d3038d34-b692-444f-e0d6-2fe95c387981"
      },
      "outputs": [
        {
          "name": "stdout",
          "output_type": "stream",
          "text": [
            "492/492 [==============================] - 5s 10ms/step - loss: 0.2438 - accuracy: 0.8986\n"
          ]
        },
        {
          "data": {
            "text/plain": [
              "[0.24377331137657166, 0.8986383080482483]"
            ]
          },
          "execution_count": 28,
          "metadata": {},
          "output_type": "execute_result"
        }
      ],
      "source": [
        "simplePosModel.evaluate(int_test_ds, test_label)"
      ]
    },
    {
      "cell_type": "code",
      "execution_count": 29,
      "metadata": {},
      "outputs": [
        {
          "data": {
            "image/png": "[encoded data removed]",
            "text/plain": [
              "<Figure size 640x480 with 1 Axes>"
            ]
          },
          "metadata": {},
          "output_type": "display_data"
        },
        {
          "data": {
            "image/png": "[encoded data removed]",
            "text/plain": [
              "<Figure size 640x480 with 1 Axes>"
            ]
          },
          "metadata": {},
          "output_type": "display_data"
        }
      ],
      "source": [
        "plot_history_metrics(history_simple_pos_enc, ['loss', 'accuracy'])"
      ]
    },
    {
      "attachments": {},
      "cell_type": "markdown",
      "metadata": {},
      "source": [
        "# Fazit\n",
        "Wie im LSTM-Notebook bereits festgestellt wurde, sind Transformer nicht unbedingt die ideale Wahl für die Menge der vorliegenden Daten. Obwohl die Ergebnisse des Transformer-Modells minimal besser sind als die des LSTM-Modells, liegen sie nur fast auf dem Niveau der Bag-of-Words-Ansätze. Allerdings ist die Ausführungszeit des Transformer-Modells um ein Vielfaches höher. Wenn wir die Ausführungszeit und die noch vorhandenen Möglichkeiten der Hyperparameter-Optimierung im Bag-of-Words-Ansatz berücksichtigen, überwiegen die Vorteile der Bag-of-Words-Methodik deutlich.\n",
        "\n",
        "Jedoch, wenn wir beabsichtigen, ein allgemeines Modell zu erstellen, das eine deutlich größere Anzahl von Reviews verarbeiten kann, dann ist die Transformer-Architektur die richtige Wahl. Insbesondere der Attention-Mechanismus und die parallel ausführbaren Positional Encodings machen sie in diesem Fall zur besten Wahl."
      ]
    }
  ],
  "metadata": {
    "accelerator": "GPU",
    "colab": {
      "gpuType": "T4",
      "provenance": []
    },
    "kernelspec": {
      "display_name": "Python 3",
      "name": "python3"
    },
    "language_info": {
      "codemirror_mode": {
        "name": "ipython",
        "version": 3
      },
      "file_extension": ".py",
      "mimetype": "text/x-python",
      "name": "python",
      "nbconvert_exporter": "python",
      "pygments_lexer": "ipython3",
      "version": "3.9.16"
    },
    "orig_nbformat": 4
  },
  "nbformat": 4,
  "nbformat_minor": 0
}
